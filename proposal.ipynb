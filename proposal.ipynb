{
  "nbformat": 4,
  "nbformat_minor": 0,
  "metadata": {
    "colab": {
      "provenance": [],
      "gpuType": "T4"
    },
    "kernelspec": {
      "name": "ir",
      "display_name": "R"
    },
    "language_info": {
      "name": "R"
    }
  },
  "cells": [
    {
      "cell_type": "markdown",
      "source": [
        "# "
      ],
      "metadata": {
        "id": "t3GxqwKagL56"
      }
    },
    {
      "cell_type": "code",
      "source": [
        "install.packages(\"tidymodels\")"
      ],
      "metadata": {
        "colab": {
          "base_uri": "https://localhost:8080/"
        },
        "id": "hdhQCOcHSfMu",
        "outputId": "0e38de25-9e00-4436-ba4d-ed431a99138b"
      },
      "execution_count": null,
      "outputs": [
        {
          "output_type": "stream",
          "name": "stderr",
          "text": [
            "Installing package into ‘/usr/local/lib/R/site-library’\n",
            "(as ‘lib’ is unspecified)\n",
            "\n"
          ]
        }
      ]
    },
    {
      "cell_type": "code",
      "source": [
        "library(tidyverse)\n",
        "library(repr)\n",
        "library(tidymodels)"
      ],
      "metadata": {
        "colab": {
          "base_uri": "https://localhost:8080/"
        },
        "id": "e6v8_RzJM4Mu",
        "outputId": "401921c0-f4b1-4245-eae2-1e7eb3412bd0"
      },
      "execution_count": null,
      "outputs": [
        {
          "output_type": "stream",
          "name": "stderr",
          "text": [
            "── \u001b[1mAttaching packages\u001b[22m ─────────────────────────────────────── tidyverse 1.3.1 ──\n",
            "\n",
            "\u001b[32m✔\u001b[39m \u001b[34mggplot2\u001b[39m 3.4.2     \u001b[32m✔\u001b[39m \u001b[34mpurrr  \u001b[39m 1.0.1\n",
            "\u001b[32m✔\u001b[39m \u001b[34mtibble \u001b[39m 3.2.1     \u001b[32m✔\u001b[39m \u001b[34mdplyr  \u001b[39m 1.1.2\n",
            "\u001b[32m✔\u001b[39m \u001b[34mtidyr  \u001b[39m 1.3.0     \u001b[32m✔\u001b[39m \u001b[34mstringr\u001b[39m 1.5.0\n",
            "\u001b[32m✔\u001b[39m \u001b[34mreadr  \u001b[39m 2.1.4     \u001b[32m✔\u001b[39m \u001b[34mforcats\u001b[39m 1.0.0\n",
            "\n",
            "── \u001b[1mConflicts\u001b[22m ────────────────────────────────────────── tidyverse_conflicts() ──\n",
            "\u001b[31m✖\u001b[39m \u001b[34mdplyr\u001b[39m::\u001b[32mfilter()\u001b[39m masks \u001b[34mstats\u001b[39m::filter()\n",
            "\u001b[31m✖\u001b[39m \u001b[34mdplyr\u001b[39m::\u001b[32mlag()\u001b[39m    masks \u001b[34mstats\u001b[39m::lag()\n",
            "\n",
            "── \u001b[1mAttaching packages\u001b[22m ────────────────────────────────────── tidymodels 1.1.0 ──\n",
            "\n",
            "\u001b[32m✔\u001b[39m \u001b[34mbroom       \u001b[39m 1.0.4     \u001b[32m✔\u001b[39m \u001b[34mrsample     \u001b[39m 1.1.1\n",
            "\u001b[32m✔\u001b[39m \u001b[34mdials       \u001b[39m 1.2.0     \u001b[32m✔\u001b[39m \u001b[34mtune        \u001b[39m 1.1.1\n",
            "\u001b[32m✔\u001b[39m \u001b[34minfer       \u001b[39m 1.0.4     \u001b[32m✔\u001b[39m \u001b[34mworkflows   \u001b[39m 1.1.3\n",
            "\u001b[32m✔\u001b[39m \u001b[34mmodeldata   \u001b[39m 1.1.0     \u001b[32m✔\u001b[39m \u001b[34mworkflowsets\u001b[39m 1.0.1\n",
            "\u001b[32m✔\u001b[39m \u001b[34mparsnip     \u001b[39m 1.1.0     \u001b[32m✔\u001b[39m \u001b[34myardstick   \u001b[39m 1.2.0\n",
            "\u001b[32m✔\u001b[39m \u001b[34mrecipes     \u001b[39m 1.0.6     \n",
            "\n",
            "── \u001b[1mConflicts\u001b[22m ───────────────────────────────────────── tidymodels_conflicts() ──\n",
            "\u001b[31m✖\u001b[39m \u001b[34mscales\u001b[39m::\u001b[32mdiscard()\u001b[39m masks \u001b[34mpurrr\u001b[39m::discard()\n",
            "\u001b[31m✖\u001b[39m \u001b[34mdplyr\u001b[39m::\u001b[32mfilter()\u001b[39m   masks \u001b[34mstats\u001b[39m::filter()\n",
            "\u001b[31m✖\u001b[39m \u001b[34mrecipes\u001b[39m::\u001b[32mfixed()\u001b[39m  masks \u001b[34mstringr\u001b[39m::fixed()\n",
            "\u001b[31m✖\u001b[39m \u001b[34mdplyr\u001b[39m::\u001b[32mlag()\u001b[39m      masks \u001b[34mstats\u001b[39m::lag()\n",
            "\u001b[31m✖\u001b[39m \u001b[34myardstick\u001b[39m::\u001b[32mspec()\u001b[39m masks \u001b[34mreadr\u001b[39m::spec()\n",
            "\u001b[31m✖\u001b[39m \u001b[34mrecipes\u001b[39m::\u001b[32mstep()\u001b[39m   masks \u001b[34mstats\u001b[39m::step()\n",
            "\u001b[34m•\u001b[39m Learn how to get started at \u001b[32mhttps://www.tidymodels.org/start/\u001b[39m\n",
            "\n"
          ]
        }
      ]
    },
    {
      "cell_type": "markdown",
      "source": [
        "##Introduction\n",
        "\n",
        "Heart disease is typically diagnosed through an angiogram which is an xray that looks at the heart, major arteries and blood vessels. Even a simple routine angiogram ranges from 675 CAD - 2200 CAD what if there was an easier and less costly way to diagnose heart disease?\n",
        "\n",
        "In this project we look at attributes derived from a simple routine checkup  like blood pressure and cholestrol levels along with age to diagnose heart disease. \n",
        "\n",
        "The dataset used look at 76 different attributes, 14 of which were used by researchers by data analysis vary from identifiers like age or sex to max heart rate to fasting blood sugar levels. Additionally they used datasets from 4 different locations: Cleveland, Hungary, Switzerland, and the VA Long Beach. In our analysis we combined the cleveland and Hungary datasets. \n"
      ],
      "metadata": {
        "id": "ywFqTQXmKEA0"
      }
    },
    {
      "cell_type": "markdown",
      "source": [
        "##Preliminary exploratory data analysis \n",
        "\n",
        "---\n",
        "\n"
      ],
      "metadata": {
        "id": "6CTjTQ0ILcr3"
      }
    },
    {
      "cell_type": "code",
      "source": [
        "heart_data <- read_delim('Data/processed.hungarian.data', col_names = FALSE) |> as_tibble()\n",
        "#reads the raw data and converts it into a tibble with no column names\n",
        "colnames(heart_data) <- c('age', 'sex', 'chest_pain', 'trestbps', 'chol', 'fbs', 'restecg', 'max_hr', \n",
        "              'exang', 'oldpeak', 'slope', 'ca', 'thal', 'num') \n",
        "#assigns names to the columns based on information from the website\n",
        "heart_data <- mutate(heart_data, sex = as.factor(sex), chest_pain = as.factor(chest_pain), num = as.factor(num), \n",
        "    fbs = as.factor(fbs), restecg = as.factor(restecg), exang = as.factor(exang), thal = as.factor(thal), \n",
        "    slope = as.factor(slope), ca = as.factor(ca)) |>\n",
        "#converts all categorical attributes into factors\n",
        "filter(chol != '?', trestbps != '?', max_hr != '?', fbs != '?') |>\n",
        "#removes missing values from the cholesterol, resting blood pressure, fasting blood sugar and maximum \n",
        "#heart rate columns\n",
        "mutate(chol = as.double(chol), trestbps = as.double(trestbps), max_hr = as.double(max_hr))\n",
        "#converts all numerical attributes into doubles\n",
        "heart_data"
      ],
      "metadata": {
        "colab": {
          "base_uri": "https://localhost:8080/",
          "height": 1000
        },
        "id": "c7cLEPVlWbqp",
        "outputId": "8a8f0822-edbb-401a-f927-7c955255f01b"
      },
      "execution_count": null,
      "outputs": [
        {
          "output_type": "stream",
          "name": "stderr",
          "text": [
            "\u001b[1mRows: \u001b[22m\u001b[34m294\u001b[39m \u001b[1mColumns: \u001b[22m\u001b[34m14\u001b[39m\n",
            "\u001b[36m──\u001b[39m \u001b[1mColumn specification\u001b[22m \u001b[36m────────────────────────────────────────────────────────\u001b[39m\n",
            "\u001b[1mDelimiter:\u001b[22m \",\"\n",
            "\u001b[31mchr\u001b[39m (9): X4, X5, X6, X7, X8, X9, X11, X12, X13\n",
            "\u001b[32mdbl\u001b[39m (5): X1, X2, X3, X10, X14\n",
            "\n",
            "\u001b[36mℹ\u001b[39m Use `spec()` to retrieve the full column specification for this data.\n",
            "\u001b[36mℹ\u001b[39m Specify the column types or set `show_col_types = FALSE` to quiet this message.\n"
          ]
        },
        {
          "output_type": "display_data",
          "data": {
            "text/html": [
              "<table class=\"dataframe\">\n",
              "<caption>A tibble: 262 × 14</caption>\n",
              "<thead>\n",
              "\t<tr><th scope=col>age</th><th scope=col>sex</th><th scope=col>chest_pain</th><th scope=col>trestbps</th><th scope=col>chol</th><th scope=col>fbs</th><th scope=col>restecg</th><th scope=col>max_hr</th><th scope=col>exang</th><th scope=col>oldpeak</th><th scope=col>slope</th><th scope=col>ca</th><th scope=col>thal</th><th scope=col>num</th></tr>\n",
              "\t<tr><th scope=col>&lt;dbl&gt;</th><th scope=col>&lt;fct&gt;</th><th scope=col>&lt;fct&gt;</th><th scope=col>&lt;dbl&gt;</th><th scope=col>&lt;dbl&gt;</th><th scope=col>&lt;fct&gt;</th><th scope=col>&lt;fct&gt;</th><th scope=col>&lt;dbl&gt;</th><th scope=col>&lt;fct&gt;</th><th scope=col>&lt;dbl&gt;</th><th scope=col>&lt;fct&gt;</th><th scope=col>&lt;fct&gt;</th><th scope=col>&lt;fct&gt;</th><th scope=col>&lt;fct&gt;</th></tr>\n",
              "</thead>\n",
              "<tbody>\n",
              "\t<tr><td>28</td><td>1</td><td>2</td><td>130</td><td>132</td><td>0</td><td>2</td><td>185</td><td>0</td><td>0</td><td>?</td><td>?</td><td>?</td><td>0</td></tr>\n",
              "\t<tr><td>29</td><td>1</td><td>2</td><td>120</td><td>243</td><td>0</td><td>0</td><td>160</td><td>0</td><td>0</td><td>?</td><td>?</td><td>?</td><td>0</td></tr>\n",
              "\t<tr><td>30</td><td>0</td><td>1</td><td>170</td><td>237</td><td>0</td><td>1</td><td>170</td><td>0</td><td>0</td><td>?</td><td>?</td><td>6</td><td>0</td></tr>\n",
              "\t<tr><td>31</td><td>0</td><td>2</td><td>100</td><td>219</td><td>0</td><td>1</td><td>150</td><td>0</td><td>0</td><td>?</td><td>?</td><td>?</td><td>0</td></tr>\n",
              "\t<tr><td>32</td><td>0</td><td>2</td><td>105</td><td>198</td><td>0</td><td>0</td><td>165</td><td>0</td><td>0</td><td>?</td><td>?</td><td>?</td><td>0</td></tr>\n",
              "\t<tr><td>32</td><td>1</td><td>2</td><td>110</td><td>225</td><td>0</td><td>0</td><td>184</td><td>0</td><td>0</td><td>?</td><td>?</td><td>?</td><td>0</td></tr>\n",
              "\t<tr><td>32</td><td>1</td><td>2</td><td>125</td><td>254</td><td>0</td><td>0</td><td>155</td><td>0</td><td>0</td><td>?</td><td>?</td><td>?</td><td>0</td></tr>\n",
              "\t<tr><td>33</td><td>1</td><td>3</td><td>120</td><td>298</td><td>0</td><td>0</td><td>185</td><td>0</td><td>0</td><td>?</td><td>?</td><td>?</td><td>0</td></tr>\n",
              "\t<tr><td>34</td><td>0</td><td>2</td><td>130</td><td>161</td><td>0</td><td>0</td><td>190</td><td>0</td><td>0</td><td>?</td><td>?</td><td>?</td><td>0</td></tr>\n",
              "\t<tr><td>34</td><td>1</td><td>2</td><td>150</td><td>214</td><td>0</td><td>1</td><td>168</td><td>0</td><td>0</td><td>?</td><td>?</td><td>?</td><td>0</td></tr>\n",
              "\t<tr><td>34</td><td>1</td><td>2</td><td> 98</td><td>220</td><td>0</td><td>0</td><td>150</td><td>0</td><td>0</td><td>?</td><td>?</td><td>?</td><td>0</td></tr>\n",
              "\t<tr><td>35</td><td>0</td><td>1</td><td>120</td><td>160</td><td>0</td><td>1</td><td>185</td><td>0</td><td>0</td><td>?</td><td>?</td><td>?</td><td>0</td></tr>\n",
              "\t<tr><td>35</td><td>0</td><td>4</td><td>140</td><td>167</td><td>0</td><td>0</td><td>150</td><td>0</td><td>0</td><td>?</td><td>?</td><td>?</td><td>0</td></tr>\n",
              "\t<tr><td>35</td><td>1</td><td>2</td><td>120</td><td>308</td><td>0</td><td>2</td><td>180</td><td>0</td><td>0</td><td>?</td><td>?</td><td>?</td><td>0</td></tr>\n",
              "\t<tr><td>35</td><td>1</td><td>2</td><td>150</td><td>264</td><td>0</td><td>0</td><td>168</td><td>0</td><td>0</td><td>?</td><td>?</td><td>?</td><td>0</td></tr>\n",
              "\t<tr><td>36</td><td>1</td><td>2</td><td>120</td><td>166</td><td>0</td><td>0</td><td>180</td><td>0</td><td>0</td><td>?</td><td>?</td><td>?</td><td>0</td></tr>\n",
              "\t<tr><td>36</td><td>1</td><td>3</td><td>112</td><td>340</td><td>0</td><td>0</td><td>184</td><td>0</td><td>1</td><td>2</td><td>?</td><td>3</td><td>0</td></tr>\n",
              "\t<tr><td>36</td><td>1</td><td>3</td><td>130</td><td>209</td><td>0</td><td>0</td><td>178</td><td>0</td><td>0</td><td>?</td><td>?</td><td>?</td><td>0</td></tr>\n",
              "\t<tr><td>36</td><td>1</td><td>3</td><td>150</td><td>160</td><td>0</td><td>0</td><td>172</td><td>0</td><td>0</td><td>?</td><td>?</td><td>?</td><td>0</td></tr>\n",
              "\t<tr><td>37</td><td>0</td><td>2</td><td>120</td><td>260</td><td>0</td><td>0</td><td>130</td><td>0</td><td>0</td><td>?</td><td>?</td><td>?</td><td>0</td></tr>\n",
              "\t<tr><td>37</td><td>0</td><td>3</td><td>130</td><td>211</td><td>0</td><td>0</td><td>142</td><td>0</td><td>0</td><td>?</td><td>?</td><td>?</td><td>0</td></tr>\n",
              "\t<tr><td>37</td><td>0</td><td>4</td><td>130</td><td>173</td><td>0</td><td>1</td><td>184</td><td>0</td><td>0</td><td>?</td><td>?</td><td>?</td><td>0</td></tr>\n",
              "\t<tr><td>37</td><td>1</td><td>2</td><td>130</td><td>283</td><td>0</td><td>1</td><td> 98</td><td>0</td><td>0</td><td>?</td><td>?</td><td>?</td><td>0</td></tr>\n",
              "\t<tr><td>37</td><td>1</td><td>3</td><td>130</td><td>194</td><td>0</td><td>0</td><td>150</td><td>0</td><td>0</td><td>?</td><td>?</td><td>?</td><td>0</td></tr>\n",
              "\t<tr><td>37</td><td>1</td><td>4</td><td>120</td><td>223</td><td>0</td><td>0</td><td>168</td><td>0</td><td>0</td><td>?</td><td>?</td><td>3</td><td>0</td></tr>\n",
              "\t<tr><td>37</td><td>1</td><td>4</td><td>130</td><td>315</td><td>0</td><td>0</td><td>158</td><td>0</td><td>0</td><td>?</td><td>?</td><td>?</td><td>0</td></tr>\n",
              "\t<tr><td>38</td><td>1</td><td>2</td><td>140</td><td>297</td><td>0</td><td>0</td><td>150</td><td>0</td><td>0</td><td>?</td><td>?</td><td>?</td><td>0</td></tr>\n",
              "\t<tr><td>38</td><td>1</td><td>3</td><td>145</td><td>292</td><td>0</td><td>0</td><td>130</td><td>0</td><td>0</td><td>?</td><td>?</td><td>?</td><td>0</td></tr>\n",
              "\t<tr><td>39</td><td>0</td><td>3</td><td>110</td><td>182</td><td>0</td><td>1</td><td>180</td><td>0</td><td>0</td><td>?</td><td>?</td><td>?</td><td>0</td></tr>\n",
              "\t<tr><td>39</td><td>1</td><td>2</td><td>120</td><td>200</td><td>0</td><td>0</td><td>160</td><td>1</td><td>1</td><td>2</td><td>?</td><td>?</td><td>0</td></tr>\n",
              "\t<tr><td>⋮</td><td>⋮</td><td>⋮</td><td>⋮</td><td>⋮</td><td>⋮</td><td>⋮</td><td>⋮</td><td>⋮</td><td>⋮</td><td>⋮</td><td>⋮</td><td>⋮</td><td>⋮</td></tr>\n",
              "\t<tr><td>52</td><td>1</td><td>4</td><td>130</td><td>298</td><td>0</td><td>0</td><td>110</td><td>1</td><td>1.0</td><td>2</td><td>?</td><td>?</td><td>1</td></tr>\n",
              "\t<tr><td>52</td><td>1</td><td>4</td><td>140</td><td>404</td><td>0</td><td>0</td><td>124</td><td>1</td><td>2.0</td><td>2</td><td>?</td><td>?</td><td>1</td></tr>\n",
              "\t<tr><td>52</td><td>1</td><td>4</td><td>160</td><td>246</td><td>0</td><td>1</td><td> 82</td><td>1</td><td>4.0</td><td>2</td><td>?</td><td>?</td><td>1</td></tr>\n",
              "\t<tr><td>53</td><td>1</td><td>3</td><td>145</td><td>518</td><td>0</td><td>0</td><td>130</td><td>0</td><td>0.0</td><td>?</td><td>?</td><td>?</td><td>1</td></tr>\n",
              "\t<tr><td>53</td><td>1</td><td>4</td><td>180</td><td>285</td><td>0</td><td>1</td><td>120</td><td>1</td><td>1.5</td><td>2</td><td>?</td><td>?</td><td>1</td></tr>\n",
              "\t<tr><td>54</td><td>1</td><td>4</td><td>140</td><td>216</td><td>0</td><td>0</td><td>105</td><td>0</td><td>1.5</td><td>2</td><td>?</td><td>?</td><td>1</td></tr>\n",
              "\t<tr><td>55</td><td>1</td><td>1</td><td>140</td><td>295</td><td>0</td><td>?</td><td>136</td><td>0</td><td>0.0</td><td>?</td><td>?</td><td>?</td><td>1</td></tr>\n",
              "\t<tr><td>55</td><td>1</td><td>2</td><td>160</td><td>292</td><td>1</td><td>0</td><td>143</td><td>1</td><td>2.0</td><td>2</td><td>?</td><td>?</td><td>1</td></tr>\n",
              "\t<tr><td>55</td><td>1</td><td>4</td><td>145</td><td>248</td><td>0</td><td>0</td><td> 96</td><td>1</td><td>2.0</td><td>2</td><td>?</td><td>?</td><td>1</td></tr>\n",
              "\t<tr><td>56</td><td>0</td><td>2</td><td>120</td><td>279</td><td>0</td><td>0</td><td>150</td><td>0</td><td>1.0</td><td>2</td><td>?</td><td>?</td><td>1</td></tr>\n",
              "\t<tr><td>56</td><td>1</td><td>4</td><td>150</td><td>230</td><td>0</td><td>1</td><td>124</td><td>1</td><td>1.5</td><td>2</td><td>?</td><td>?</td><td>1</td></tr>\n",
              "\t<tr><td>56</td><td>1</td><td>4</td><td>170</td><td>388</td><td>0</td><td>1</td><td>122</td><td>1</td><td>2.0</td><td>2</td><td>?</td><td>?</td><td>1</td></tr>\n",
              "\t<tr><td>58</td><td>1</td><td>2</td><td>136</td><td>164</td><td>0</td><td>1</td><td> 99</td><td>1</td><td>2.0</td><td>2</td><td>?</td><td>?</td><td>1</td></tr>\n",
              "\t<tr><td>59</td><td>1</td><td>4</td><td>140</td><td>264</td><td>1</td><td>2</td><td>119</td><td>1</td><td>0.0</td><td>?</td><td>?</td><td>?</td><td>1</td></tr>\n",
              "\t<tr><td>65</td><td>1</td><td>4</td><td>170</td><td>263</td><td>1</td><td>0</td><td>112</td><td>1</td><td>2.0</td><td>2</td><td>?</td><td>?</td><td>1</td></tr>\n",
              "\t<tr><td>41</td><td>1</td><td>4</td><td>120</td><td>336</td><td>0</td><td>0</td><td>118</td><td>1</td><td>3.0</td><td>2</td><td>?</td><td>?</td><td>1</td></tr>\n",
              "\t<tr><td>43</td><td>1</td><td>4</td><td>140</td><td>288</td><td>0</td><td>0</td><td>135</td><td>1</td><td>2.0</td><td>2</td><td>?</td><td>?</td><td>1</td></tr>\n",
              "\t<tr><td>44</td><td>1</td><td>4</td><td>135</td><td>491</td><td>0</td><td>0</td><td>135</td><td>0</td><td>0.0</td><td>?</td><td>?</td><td>?</td><td>1</td></tr>\n",
              "\t<tr><td>47</td><td>0</td><td>4</td><td>120</td><td>205</td><td>0</td><td>0</td><td> 98</td><td>1</td><td>2.0</td><td>2</td><td>?</td><td>6</td><td>1</td></tr>\n",
              "\t<tr><td>47</td><td>1</td><td>4</td><td>160</td><td>291</td><td>0</td><td>1</td><td>158</td><td>1</td><td>3.0</td><td>2</td><td>?</td><td>?</td><td>1</td></tr>\n",
              "\t<tr><td>49</td><td>1</td><td>4</td><td>128</td><td>212</td><td>0</td><td>0</td><td> 96</td><td>1</td><td>0.0</td><td>?</td><td>?</td><td>?</td><td>1</td></tr>\n",
              "\t<tr><td>49</td><td>1</td><td>4</td><td>150</td><td>222</td><td>0</td><td>0</td><td>122</td><td>0</td><td>2.0</td><td>2</td><td>?</td><td>?</td><td>1</td></tr>\n",
              "\t<tr><td>50</td><td>1</td><td>4</td><td>140</td><td>231</td><td>0</td><td>1</td><td>140</td><td>1</td><td>5.0</td><td>2</td><td>?</td><td>?</td><td>1</td></tr>\n",
              "\t<tr><td>50</td><td>1</td><td>4</td><td>140</td><td>341</td><td>0</td><td>1</td><td>125</td><td>1</td><td>2.5</td><td>2</td><td>?</td><td>?</td><td>1</td></tr>\n",
              "\t<tr><td>52</td><td>1</td><td>4</td><td>140</td><td>266</td><td>0</td><td>0</td><td>134</td><td>1</td><td>2.0</td><td>2</td><td>?</td><td>?</td><td>1</td></tr>\n",
              "\t<tr><td>52</td><td>1</td><td>4</td><td>160</td><td>331</td><td>0</td><td>0</td><td> 94</td><td>1</td><td>2.5</td><td>?</td><td>?</td><td>?</td><td>1</td></tr>\n",
              "\t<tr><td>54</td><td>0</td><td>3</td><td>130</td><td>294</td><td>0</td><td>1</td><td>100</td><td>1</td><td>0.0</td><td>2</td><td>?</td><td>?</td><td>1</td></tr>\n",
              "\t<tr><td>56</td><td>1</td><td>4</td><td>155</td><td>342</td><td>1</td><td>0</td><td>150</td><td>1</td><td>3.0</td><td>2</td><td>?</td><td>?</td><td>1</td></tr>\n",
              "\t<tr><td>58</td><td>0</td><td>2</td><td>180</td><td>393</td><td>0</td><td>0</td><td>110</td><td>1</td><td>1.0</td><td>2</td><td>?</td><td>7</td><td>1</td></tr>\n",
              "\t<tr><td>65</td><td>1</td><td>4</td><td>130</td><td>275</td><td>0</td><td>1</td><td>115</td><td>1</td><td>1.0</td><td>2</td><td>?</td><td>?</td><td>1</td></tr>\n",
              "</tbody>\n",
              "</table>\n"
            ],
            "text/markdown": "\nA tibble: 262 × 14\n\n| age &lt;dbl&gt; | sex &lt;fct&gt; | chest_pain &lt;fct&gt; | trestbps &lt;dbl&gt; | chol &lt;dbl&gt; | fbs &lt;fct&gt; | restecg &lt;fct&gt; | max_hr &lt;dbl&gt; | exang &lt;fct&gt; | oldpeak &lt;dbl&gt; | slope &lt;fct&gt; | ca &lt;fct&gt; | thal &lt;fct&gt; | num &lt;fct&gt; |\n|---|---|---|---|---|---|---|---|---|---|---|---|---|---|\n| 28 | 1 | 2 | 130 | 132 | 0 | 2 | 185 | 0 | 0 | ? | ? | ? | 0 |\n| 29 | 1 | 2 | 120 | 243 | 0 | 0 | 160 | 0 | 0 | ? | ? | ? | 0 |\n| 30 | 0 | 1 | 170 | 237 | 0 | 1 | 170 | 0 | 0 | ? | ? | 6 | 0 |\n| 31 | 0 | 2 | 100 | 219 | 0 | 1 | 150 | 0 | 0 | ? | ? | ? | 0 |\n| 32 | 0 | 2 | 105 | 198 | 0 | 0 | 165 | 0 | 0 | ? | ? | ? | 0 |\n| 32 | 1 | 2 | 110 | 225 | 0 | 0 | 184 | 0 | 0 | ? | ? | ? | 0 |\n| 32 | 1 | 2 | 125 | 254 | 0 | 0 | 155 | 0 | 0 | ? | ? | ? | 0 |\n| 33 | 1 | 3 | 120 | 298 | 0 | 0 | 185 | 0 | 0 | ? | ? | ? | 0 |\n| 34 | 0 | 2 | 130 | 161 | 0 | 0 | 190 | 0 | 0 | ? | ? | ? | 0 |\n| 34 | 1 | 2 | 150 | 214 | 0 | 1 | 168 | 0 | 0 | ? | ? | ? | 0 |\n| 34 | 1 | 2 |  98 | 220 | 0 | 0 | 150 | 0 | 0 | ? | ? | ? | 0 |\n| 35 | 0 | 1 | 120 | 160 | 0 | 1 | 185 | 0 | 0 | ? | ? | ? | 0 |\n| 35 | 0 | 4 | 140 | 167 | 0 | 0 | 150 | 0 | 0 | ? | ? | ? | 0 |\n| 35 | 1 | 2 | 120 | 308 | 0 | 2 | 180 | 0 | 0 | ? | ? | ? | 0 |\n| 35 | 1 | 2 | 150 | 264 | 0 | 0 | 168 | 0 | 0 | ? | ? | ? | 0 |\n| 36 | 1 | 2 | 120 | 166 | 0 | 0 | 180 | 0 | 0 | ? | ? | ? | 0 |\n| 36 | 1 | 3 | 112 | 340 | 0 | 0 | 184 | 0 | 1 | 2 | ? | 3 | 0 |\n| 36 | 1 | 3 | 130 | 209 | 0 | 0 | 178 | 0 | 0 | ? | ? | ? | 0 |\n| 36 | 1 | 3 | 150 | 160 | 0 | 0 | 172 | 0 | 0 | ? | ? | ? | 0 |\n| 37 | 0 | 2 | 120 | 260 | 0 | 0 | 130 | 0 | 0 | ? | ? | ? | 0 |\n| 37 | 0 | 3 | 130 | 211 | 0 | 0 | 142 | 0 | 0 | ? | ? | ? | 0 |\n| 37 | 0 | 4 | 130 | 173 | 0 | 1 | 184 | 0 | 0 | ? | ? | ? | 0 |\n| 37 | 1 | 2 | 130 | 283 | 0 | 1 |  98 | 0 | 0 | ? | ? | ? | 0 |\n| 37 | 1 | 3 | 130 | 194 | 0 | 0 | 150 | 0 | 0 | ? | ? | ? | 0 |\n| 37 | 1 | 4 | 120 | 223 | 0 | 0 | 168 | 0 | 0 | ? | ? | 3 | 0 |\n| 37 | 1 | 4 | 130 | 315 | 0 | 0 | 158 | 0 | 0 | ? | ? | ? | 0 |\n| 38 | 1 | 2 | 140 | 297 | 0 | 0 | 150 | 0 | 0 | ? | ? | ? | 0 |\n| 38 | 1 | 3 | 145 | 292 | 0 | 0 | 130 | 0 | 0 | ? | ? | ? | 0 |\n| 39 | 0 | 3 | 110 | 182 | 0 | 1 | 180 | 0 | 0 | ? | ? | ? | 0 |\n| 39 | 1 | 2 | 120 | 200 | 0 | 0 | 160 | 1 | 1 | 2 | ? | ? | 0 |\n| ⋮ | ⋮ | ⋮ | ⋮ | ⋮ | ⋮ | ⋮ | ⋮ | ⋮ | ⋮ | ⋮ | ⋮ | ⋮ | ⋮ |\n| 52 | 1 | 4 | 130 | 298 | 0 | 0 | 110 | 1 | 1.0 | 2 | ? | ? | 1 |\n| 52 | 1 | 4 | 140 | 404 | 0 | 0 | 124 | 1 | 2.0 | 2 | ? | ? | 1 |\n| 52 | 1 | 4 | 160 | 246 | 0 | 1 |  82 | 1 | 4.0 | 2 | ? | ? | 1 |\n| 53 | 1 | 3 | 145 | 518 | 0 | 0 | 130 | 0 | 0.0 | ? | ? | ? | 1 |\n| 53 | 1 | 4 | 180 | 285 | 0 | 1 | 120 | 1 | 1.5 | 2 | ? | ? | 1 |\n| 54 | 1 | 4 | 140 | 216 | 0 | 0 | 105 | 0 | 1.5 | 2 | ? | ? | 1 |\n| 55 | 1 | 1 | 140 | 295 | 0 | ? | 136 | 0 | 0.0 | ? | ? | ? | 1 |\n| 55 | 1 | 2 | 160 | 292 | 1 | 0 | 143 | 1 | 2.0 | 2 | ? | ? | 1 |\n| 55 | 1 | 4 | 145 | 248 | 0 | 0 |  96 | 1 | 2.0 | 2 | ? | ? | 1 |\n| 56 | 0 | 2 | 120 | 279 | 0 | 0 | 150 | 0 | 1.0 | 2 | ? | ? | 1 |\n| 56 | 1 | 4 | 150 | 230 | 0 | 1 | 124 | 1 | 1.5 | 2 | ? | ? | 1 |\n| 56 | 1 | 4 | 170 | 388 | 0 | 1 | 122 | 1 | 2.0 | 2 | ? | ? | 1 |\n| 58 | 1 | 2 | 136 | 164 | 0 | 1 |  99 | 1 | 2.0 | 2 | ? | ? | 1 |\n| 59 | 1 | 4 | 140 | 264 | 1 | 2 | 119 | 1 | 0.0 | ? | ? | ? | 1 |\n| 65 | 1 | 4 | 170 | 263 | 1 | 0 | 112 | 1 | 2.0 | 2 | ? | ? | 1 |\n| 41 | 1 | 4 | 120 | 336 | 0 | 0 | 118 | 1 | 3.0 | 2 | ? | ? | 1 |\n| 43 | 1 | 4 | 140 | 288 | 0 | 0 | 135 | 1 | 2.0 | 2 | ? | ? | 1 |\n| 44 | 1 | 4 | 135 | 491 | 0 | 0 | 135 | 0 | 0.0 | ? | ? | ? | 1 |\n| 47 | 0 | 4 | 120 | 205 | 0 | 0 |  98 | 1 | 2.0 | 2 | ? | 6 | 1 |\n| 47 | 1 | 4 | 160 | 291 | 0 | 1 | 158 | 1 | 3.0 | 2 | ? | ? | 1 |\n| 49 | 1 | 4 | 128 | 212 | 0 | 0 |  96 | 1 | 0.0 | ? | ? | ? | 1 |\n| 49 | 1 | 4 | 150 | 222 | 0 | 0 | 122 | 0 | 2.0 | 2 | ? | ? | 1 |\n| 50 | 1 | 4 | 140 | 231 | 0 | 1 | 140 | 1 | 5.0 | 2 | ? | ? | 1 |\n| 50 | 1 | 4 | 140 | 341 | 0 | 1 | 125 | 1 | 2.5 | 2 | ? | ? | 1 |\n| 52 | 1 | 4 | 140 | 266 | 0 | 0 | 134 | 1 | 2.0 | 2 | ? | ? | 1 |\n| 52 | 1 | 4 | 160 | 331 | 0 | 0 |  94 | 1 | 2.5 | ? | ? | ? | 1 |\n| 54 | 0 | 3 | 130 | 294 | 0 | 1 | 100 | 1 | 0.0 | 2 | ? | ? | 1 |\n| 56 | 1 | 4 | 155 | 342 | 1 | 0 | 150 | 1 | 3.0 | 2 | ? | ? | 1 |\n| 58 | 0 | 2 | 180 | 393 | 0 | 0 | 110 | 1 | 1.0 | 2 | ? | 7 | 1 |\n| 65 | 1 | 4 | 130 | 275 | 0 | 1 | 115 | 1 | 1.0 | 2 | ? | ? | 1 |\n\n",
            "text/latex": "A tibble: 262 × 14\n\\begin{tabular}{llllllllllllll}\n age & sex & chest\\_pain & trestbps & chol & fbs & restecg & max\\_hr & exang & oldpeak & slope & ca & thal & num\\\\\n <dbl> & <fct> & <fct> & <dbl> & <dbl> & <fct> & <fct> & <dbl> & <fct> & <dbl> & <fct> & <fct> & <fct> & <fct>\\\\\n\\hline\n\t 28 & 1 & 2 & 130 & 132 & 0 & 2 & 185 & 0 & 0 & ? & ? & ? & 0\\\\\n\t 29 & 1 & 2 & 120 & 243 & 0 & 0 & 160 & 0 & 0 & ? & ? & ? & 0\\\\\n\t 30 & 0 & 1 & 170 & 237 & 0 & 1 & 170 & 0 & 0 & ? & ? & 6 & 0\\\\\n\t 31 & 0 & 2 & 100 & 219 & 0 & 1 & 150 & 0 & 0 & ? & ? & ? & 0\\\\\n\t 32 & 0 & 2 & 105 & 198 & 0 & 0 & 165 & 0 & 0 & ? & ? & ? & 0\\\\\n\t 32 & 1 & 2 & 110 & 225 & 0 & 0 & 184 & 0 & 0 & ? & ? & ? & 0\\\\\n\t 32 & 1 & 2 & 125 & 254 & 0 & 0 & 155 & 0 & 0 & ? & ? & ? & 0\\\\\n\t 33 & 1 & 3 & 120 & 298 & 0 & 0 & 185 & 0 & 0 & ? & ? & ? & 0\\\\\n\t 34 & 0 & 2 & 130 & 161 & 0 & 0 & 190 & 0 & 0 & ? & ? & ? & 0\\\\\n\t 34 & 1 & 2 & 150 & 214 & 0 & 1 & 168 & 0 & 0 & ? & ? & ? & 0\\\\\n\t 34 & 1 & 2 &  98 & 220 & 0 & 0 & 150 & 0 & 0 & ? & ? & ? & 0\\\\\n\t 35 & 0 & 1 & 120 & 160 & 0 & 1 & 185 & 0 & 0 & ? & ? & ? & 0\\\\\n\t 35 & 0 & 4 & 140 & 167 & 0 & 0 & 150 & 0 & 0 & ? & ? & ? & 0\\\\\n\t 35 & 1 & 2 & 120 & 308 & 0 & 2 & 180 & 0 & 0 & ? & ? & ? & 0\\\\\n\t 35 & 1 & 2 & 150 & 264 & 0 & 0 & 168 & 0 & 0 & ? & ? & ? & 0\\\\\n\t 36 & 1 & 2 & 120 & 166 & 0 & 0 & 180 & 0 & 0 & ? & ? & ? & 0\\\\\n\t 36 & 1 & 3 & 112 & 340 & 0 & 0 & 184 & 0 & 1 & 2 & ? & 3 & 0\\\\\n\t 36 & 1 & 3 & 130 & 209 & 0 & 0 & 178 & 0 & 0 & ? & ? & ? & 0\\\\\n\t 36 & 1 & 3 & 150 & 160 & 0 & 0 & 172 & 0 & 0 & ? & ? & ? & 0\\\\\n\t 37 & 0 & 2 & 120 & 260 & 0 & 0 & 130 & 0 & 0 & ? & ? & ? & 0\\\\\n\t 37 & 0 & 3 & 130 & 211 & 0 & 0 & 142 & 0 & 0 & ? & ? & ? & 0\\\\\n\t 37 & 0 & 4 & 130 & 173 & 0 & 1 & 184 & 0 & 0 & ? & ? & ? & 0\\\\\n\t 37 & 1 & 2 & 130 & 283 & 0 & 1 &  98 & 0 & 0 & ? & ? & ? & 0\\\\\n\t 37 & 1 & 3 & 130 & 194 & 0 & 0 & 150 & 0 & 0 & ? & ? & ? & 0\\\\\n\t 37 & 1 & 4 & 120 & 223 & 0 & 0 & 168 & 0 & 0 & ? & ? & 3 & 0\\\\\n\t 37 & 1 & 4 & 130 & 315 & 0 & 0 & 158 & 0 & 0 & ? & ? & ? & 0\\\\\n\t 38 & 1 & 2 & 140 & 297 & 0 & 0 & 150 & 0 & 0 & ? & ? & ? & 0\\\\\n\t 38 & 1 & 3 & 145 & 292 & 0 & 0 & 130 & 0 & 0 & ? & ? & ? & 0\\\\\n\t 39 & 0 & 3 & 110 & 182 & 0 & 1 & 180 & 0 & 0 & ? & ? & ? & 0\\\\\n\t 39 & 1 & 2 & 120 & 200 & 0 & 0 & 160 & 1 & 1 & 2 & ? & ? & 0\\\\\n\t ⋮ & ⋮ & ⋮ & ⋮ & ⋮ & ⋮ & ⋮ & ⋮ & ⋮ & ⋮ & ⋮ & ⋮ & ⋮ & ⋮\\\\\n\t 52 & 1 & 4 & 130 & 298 & 0 & 0 & 110 & 1 & 1.0 & 2 & ? & ? & 1\\\\\n\t 52 & 1 & 4 & 140 & 404 & 0 & 0 & 124 & 1 & 2.0 & 2 & ? & ? & 1\\\\\n\t 52 & 1 & 4 & 160 & 246 & 0 & 1 &  82 & 1 & 4.0 & 2 & ? & ? & 1\\\\\n\t 53 & 1 & 3 & 145 & 518 & 0 & 0 & 130 & 0 & 0.0 & ? & ? & ? & 1\\\\\n\t 53 & 1 & 4 & 180 & 285 & 0 & 1 & 120 & 1 & 1.5 & 2 & ? & ? & 1\\\\\n\t 54 & 1 & 4 & 140 & 216 & 0 & 0 & 105 & 0 & 1.5 & 2 & ? & ? & 1\\\\\n\t 55 & 1 & 1 & 140 & 295 & 0 & ? & 136 & 0 & 0.0 & ? & ? & ? & 1\\\\\n\t 55 & 1 & 2 & 160 & 292 & 1 & 0 & 143 & 1 & 2.0 & 2 & ? & ? & 1\\\\\n\t 55 & 1 & 4 & 145 & 248 & 0 & 0 &  96 & 1 & 2.0 & 2 & ? & ? & 1\\\\\n\t 56 & 0 & 2 & 120 & 279 & 0 & 0 & 150 & 0 & 1.0 & 2 & ? & ? & 1\\\\\n\t 56 & 1 & 4 & 150 & 230 & 0 & 1 & 124 & 1 & 1.5 & 2 & ? & ? & 1\\\\\n\t 56 & 1 & 4 & 170 & 388 & 0 & 1 & 122 & 1 & 2.0 & 2 & ? & ? & 1\\\\\n\t 58 & 1 & 2 & 136 & 164 & 0 & 1 &  99 & 1 & 2.0 & 2 & ? & ? & 1\\\\\n\t 59 & 1 & 4 & 140 & 264 & 1 & 2 & 119 & 1 & 0.0 & ? & ? & ? & 1\\\\\n\t 65 & 1 & 4 & 170 & 263 & 1 & 0 & 112 & 1 & 2.0 & 2 & ? & ? & 1\\\\\n\t 41 & 1 & 4 & 120 & 336 & 0 & 0 & 118 & 1 & 3.0 & 2 & ? & ? & 1\\\\\n\t 43 & 1 & 4 & 140 & 288 & 0 & 0 & 135 & 1 & 2.0 & 2 & ? & ? & 1\\\\\n\t 44 & 1 & 4 & 135 & 491 & 0 & 0 & 135 & 0 & 0.0 & ? & ? & ? & 1\\\\\n\t 47 & 0 & 4 & 120 & 205 & 0 & 0 &  98 & 1 & 2.0 & 2 & ? & 6 & 1\\\\\n\t 47 & 1 & 4 & 160 & 291 & 0 & 1 & 158 & 1 & 3.0 & 2 & ? & ? & 1\\\\\n\t 49 & 1 & 4 & 128 & 212 & 0 & 0 &  96 & 1 & 0.0 & ? & ? & ? & 1\\\\\n\t 49 & 1 & 4 & 150 & 222 & 0 & 0 & 122 & 0 & 2.0 & 2 & ? & ? & 1\\\\\n\t 50 & 1 & 4 & 140 & 231 & 0 & 1 & 140 & 1 & 5.0 & 2 & ? & ? & 1\\\\\n\t 50 & 1 & 4 & 140 & 341 & 0 & 1 & 125 & 1 & 2.5 & 2 & ? & ? & 1\\\\\n\t 52 & 1 & 4 & 140 & 266 & 0 & 0 & 134 & 1 & 2.0 & 2 & ? & ? & 1\\\\\n\t 52 & 1 & 4 & 160 & 331 & 0 & 0 &  94 & 1 & 2.5 & ? & ? & ? & 1\\\\\n\t 54 & 0 & 3 & 130 & 294 & 0 & 1 & 100 & 1 & 0.0 & 2 & ? & ? & 1\\\\\n\t 56 & 1 & 4 & 155 & 342 & 1 & 0 & 150 & 1 & 3.0 & 2 & ? & ? & 1\\\\\n\t 58 & 0 & 2 & 180 & 393 & 0 & 0 & 110 & 1 & 1.0 & 2 & ? & 7 & 1\\\\\n\t 65 & 1 & 4 & 130 & 275 & 0 & 1 & 115 & 1 & 1.0 & 2 & ? & ? & 1\\\\\n\\end{tabular}\n",
            "text/plain": [
              "    age sex chest_pain trestbps chol fbs restecg max_hr exang oldpeak slope ca\n",
              "1   28  1   2          130      132  0   2       185    0     0       ?     ? \n",
              "2   29  1   2          120      243  0   0       160    0     0       ?     ? \n",
              "3   30  0   1          170      237  0   1       170    0     0       ?     ? \n",
              "4   31  0   2          100      219  0   1       150    0     0       ?     ? \n",
              "5   32  0   2          105      198  0   0       165    0     0       ?     ? \n",
              "6   32  1   2          110      225  0   0       184    0     0       ?     ? \n",
              "7   32  1   2          125      254  0   0       155    0     0       ?     ? \n",
              "8   33  1   3          120      298  0   0       185    0     0       ?     ? \n",
              "9   34  0   2          130      161  0   0       190    0     0       ?     ? \n",
              "10  34  1   2          150      214  0   1       168    0     0       ?     ? \n",
              "11  34  1   2           98      220  0   0       150    0     0       ?     ? \n",
              "12  35  0   1          120      160  0   1       185    0     0       ?     ? \n",
              "13  35  0   4          140      167  0   0       150    0     0       ?     ? \n",
              "14  35  1   2          120      308  0   2       180    0     0       ?     ? \n",
              "15  35  1   2          150      264  0   0       168    0     0       ?     ? \n",
              "16  36  1   2          120      166  0   0       180    0     0       ?     ? \n",
              "17  36  1   3          112      340  0   0       184    0     1       2     ? \n",
              "18  36  1   3          130      209  0   0       178    0     0       ?     ? \n",
              "19  36  1   3          150      160  0   0       172    0     0       ?     ? \n",
              "20  37  0   2          120      260  0   0       130    0     0       ?     ? \n",
              "21  37  0   3          130      211  0   0       142    0     0       ?     ? \n",
              "22  37  0   4          130      173  0   1       184    0     0       ?     ? \n",
              "23  37  1   2          130      283  0   1        98    0     0       ?     ? \n",
              "24  37  1   3          130      194  0   0       150    0     0       ?     ? \n",
              "25  37  1   4          120      223  0   0       168    0     0       ?     ? \n",
              "26  37  1   4          130      315  0   0       158    0     0       ?     ? \n",
              "27  38  1   2          140      297  0   0       150    0     0       ?     ? \n",
              "28  38  1   3          145      292  0   0       130    0     0       ?     ? \n",
              "29  39  0   3          110      182  0   1       180    0     0       ?     ? \n",
              "30  39  1   2          120      200  0   0       160    1     1       2     ? \n",
              "⋮   ⋮   ⋮   ⋮          ⋮        ⋮    ⋮   ⋮       ⋮      ⋮     ⋮       ⋮     ⋮ \n",
              "233 52  1   4          130      298  0   0       110    1     1.0     2     ? \n",
              "234 52  1   4          140      404  0   0       124    1     2.0     2     ? \n",
              "235 52  1   4          160      246  0   1        82    1     4.0     2     ? \n",
              "236 53  1   3          145      518  0   0       130    0     0.0     ?     ? \n",
              "237 53  1   4          180      285  0   1       120    1     1.5     2     ? \n",
              "238 54  1   4          140      216  0   0       105    0     1.5     2     ? \n",
              "239 55  1   1          140      295  0   ?       136    0     0.0     ?     ? \n",
              "240 55  1   2          160      292  1   0       143    1     2.0     2     ? \n",
              "241 55  1   4          145      248  0   0        96    1     2.0     2     ? \n",
              "242 56  0   2          120      279  0   0       150    0     1.0     2     ? \n",
              "243 56  1   4          150      230  0   1       124    1     1.5     2     ? \n",
              "244 56  1   4          170      388  0   1       122    1     2.0     2     ? \n",
              "245 58  1   2          136      164  0   1        99    1     2.0     2     ? \n",
              "246 59  1   4          140      264  1   2       119    1     0.0     ?     ? \n",
              "247 65  1   4          170      263  1   0       112    1     2.0     2     ? \n",
              "248 41  1   4          120      336  0   0       118    1     3.0     2     ? \n",
              "249 43  1   4          140      288  0   0       135    1     2.0     2     ? \n",
              "250 44  1   4          135      491  0   0       135    0     0.0     ?     ? \n",
              "251 47  0   4          120      205  0   0        98    1     2.0     2     ? \n",
              "252 47  1   4          160      291  0   1       158    1     3.0     2     ? \n",
              "253 49  1   4          128      212  0   0        96    1     0.0     ?     ? \n",
              "254 49  1   4          150      222  0   0       122    0     2.0     2     ? \n",
              "255 50  1   4          140      231  0   1       140    1     5.0     2     ? \n",
              "256 50  1   4          140      341  0   1       125    1     2.5     2     ? \n",
              "257 52  1   4          140      266  0   0       134    1     2.0     2     ? \n",
              "258 52  1   4          160      331  0   0        94    1     2.5     ?     ? \n",
              "259 54  0   3          130      294  0   1       100    1     0.0     2     ? \n",
              "260 56  1   4          155      342  1   0       150    1     3.0     2     ? \n",
              "261 58  0   2          180      393  0   0       110    1     1.0     2     ? \n",
              "262 65  1   4          130      275  0   1       115    1     1.0     2     ? \n",
              "    thal num\n",
              "1   ?    0  \n",
              "2   ?    0  \n",
              "3   6    0  \n",
              "4   ?    0  \n",
              "5   ?    0  \n",
              "6   ?    0  \n",
              "7   ?    0  \n",
              "8   ?    0  \n",
              "9   ?    0  \n",
              "10  ?    0  \n",
              "11  ?    0  \n",
              "12  ?    0  \n",
              "13  ?    0  \n",
              "14  ?    0  \n",
              "15  ?    0  \n",
              "16  ?    0  \n",
              "17  3    0  \n",
              "18  ?    0  \n",
              "19  ?    0  \n",
              "20  ?    0  \n",
              "21  ?    0  \n",
              "22  ?    0  \n",
              "23  ?    0  \n",
              "24  ?    0  \n",
              "25  3    0  \n",
              "26  ?    0  \n",
              "27  ?    0  \n",
              "28  ?    0  \n",
              "29  ?    0  \n",
              "30  ?    0  \n",
              "⋮   ⋮    ⋮  \n",
              "233 ?    1  \n",
              "234 ?    1  \n",
              "235 ?    1  \n",
              "236 ?    1  \n",
              "237 ?    1  \n",
              "238 ?    1  \n",
              "239 ?    1  \n",
              "240 ?    1  \n",
              "241 ?    1  \n",
              "242 ?    1  \n",
              "243 ?    1  \n",
              "244 ?    1  \n",
              "245 ?    1  \n",
              "246 ?    1  \n",
              "247 ?    1  \n",
              "248 ?    1  \n",
              "249 ?    1  \n",
              "250 ?    1  \n",
              "251 6    1  \n",
              "252 ?    1  \n",
              "253 ?    1  \n",
              "254 ?    1  \n",
              "255 ?    1  \n",
              "256 ?    1  \n",
              "257 ?    1  \n",
              "258 ?    1  \n",
              "259 ?    1  \n",
              "260 ?    1  \n",
              "261 7    1  \n",
              "262 ?    1  "
            ]
          },
          "metadata": {}
        }
      ]
    },
    {
      "cell_type": "code",
      "source": [
        "heart_select <- select(heart_data, chol, fbs, num)\n",
        "summary(heart_select)\n",
        "heart_plot <- ggplot(heart_select, aes(x = chol, y = fbs, shape = num)) + \n",
        "  geom_point() +"
      ],
      "metadata": {
        "colab": {
          "base_uri": "https://localhost:8080/",
          "height": 151
        },
        "id": "GH3Kv-k7Xzvj",
        "outputId": "31bb1451-b33f-4cc5-c50e-d980aa7fd728"
      },
      "execution_count": null,
      "outputs": [
        {
          "output_type": "error",
          "ename": "ERROR",
          "evalue": "ignored",
          "traceback": [
            "Error in parse(text = x, srcfile = src): <text>:5:0: unexpected end of input\n3: heart_plot <- ggplot(heart_select, aes(x = chol, y = fbs, shape = num)) + \n4:   geom_point() +\n  ^\nTraceback:\n"
          ]
        }
      ]
    },
    {
      "cell_type": "code",
      "execution_count": null,
      "metadata": {
        "id": "tpOE2g9IfV4d"
      },
      "outputs": [],
      "source": [
        "split <- initial_split(heart_select, prop = 0.75, strata = num) # prop is % of data we want to use as training data  \n",
        "train <- training(split)   \n",
        "test <- testing(split)\n"
      ]
    },
    {
      "cell_type": "markdown",
      "source": [
        "##Methods\n",
        "\n",
        "The variables of importance for our analysis were blood pressure and cholesterol levels along with age, as cheaper ways to diagnosis of heart disease. \n",
        "\n",
        "We will use scatterplots to show the correlations between blood pressure (on the x axis) and age (on the y axis) and the colour indicated heart disease diagnosis. "
      ],
      "metadata": {
        "id": "TCp30zBlLUHp"
      }
    },
    {
      "cell_type": "markdown",
      "source": [
        "##Expected Outcomes and Significance\n",
        "\n",
        "Based on some preliminary research we expect to find some relationship between heart disease and blood pressure (high blood pressure indicates an increase risk for heart disease diagnosis), cholesterol and blood pressure are also linked, thus indicating that cholesterol levels could be related to heart disease diagnosis. Age has been linked to all three (higher age, increased risk for high blood pressure, high cholesterol and heart disease). \n",
        "\n",
        "The impact is clear, if we could diagnose heart disease used other indicators aside from an angiogram, that means less costly procedure for physicians and patients, that means increased access to heart disease diagnosis\n",
        "\n",
        "Future questions may relate to rethinking current standard diagnosis practices in medicine and exploring easier, and less expensive options. "
      ],
      "metadata": {
        "id": "wYQVHmuELW1w"
      }
    }
  ]
}
