{
  "nbformat": 4,
  "nbformat_minor": 0,
  "metadata": {
    "colab": {
      "provenance": [],
      "gpuType": "T4",
      "private_outputs": true
    },
    "kernelspec": {
      "name": "ir",
      "display_name": "R"
    },
    "language_info": {
      "name": "R"
    }
  },
  "cells": [
    {
      "cell_type": "markdown",
      "source": [
        "### Run these first!"
      ],
      "metadata": {
        "id": "t3GxqwKagL56"
      }
    },
    {
      "cell_type": "code",
      "source": [
        "install.packages(\"tidymodels\")"
      ],
      "metadata": {
        "id": "hdhQCOcHSfMu"
      },
      "execution_count": null,
      "outputs": []
    },
    {
      "cell_type": "code",
      "source": [
        "library(tidyverse)\n",
        "library(repr)\n",
        "library(tidymodels)"
      ],
      "metadata": {
        "id": "e6v8_RzJM4Mu"
      },
      "execution_count": null,
      "outputs": []
    },
    {
      "cell_type": "markdown",
      "source": [
        "##Introduction\n",
        "\n",
        "Heart disease is typically diagnosed through an angiogram, an xray that looks at the heart, major arteries and blood vessels. An angiogram is expensive, ranging from 675 CAD - 2200 CAD. What if there was an easier and less costly way to diagnose heart disease?\n",
        "\n",
        "In this project we look at attributes derived from a simple routine checkup  like blood pressure and cholestrol levels alongside age to diagnose heart disease. \n",
        "\n",
        "The dataset used looks at 76 different attributes, 14 of which were used by researchers for data analysis. These vary from identifiers like age or sex to max heart rate to fasting blood sugar levels. Additionally they used datasets from 4 different locations: Cleveland, Hungary, Switzerland, and the VA Long Beach. In our analysis we combined the Cleveland and Hungary datasets. \n"
      ],
      "metadata": {
        "id": "ywFqTQXmKEA0"
      }
    },
    {
      "cell_type": "markdown",
      "source": [
        "##Preliminary exploratory data analysis \n",
        "\n",
        "---\n",
        "\n"
      ],
      "metadata": {
        "id": "6CTjTQ0ILcr3"
      }
    },
    {
      "cell_type": "markdown",
      "source": [
        "##Methods\n",
        "\n",
        "The variables of importance for our analysis were age, resting blood pressure, and cholesterol levels, as they are cheaper ways to diagnose heart disease. \n",
        "\n",
        "\n",
        "## edit later when we have data:\n",
        "We will use scatterplots to show the correlations between blood pressure (on the x axis) and age (on the y axis) and the colour indicated heart disease diagnosis. "
      ],
      "metadata": {
        "id": "TCp30zBlLUHp"
      }
    },
    {
      "cell_type": "code",
      "source": [
        "# data goes here"
      ],
      "metadata": {
        "id": "c7cLEPVlWbqp"
      },
      "execution_count": null,
      "outputs": []
    },
    {
      "cell_type": "markdown",
      "source": [
        "##Expected Outcomes and Significance\n",
        "\n",
        "Based on some preliminary research, we expect to find some relationship between heart disease and blood pressure (high blood pressure indicates an increase risk for heart disease diagnosis). Cholesterol and blood pressure are also linked, thus indicating that cholesterol levels could be related to heart disease diagnosis. Age has been linked to all three (higher age, increased risk for high blood pressure, high cholesterol and heart disease). \n",
        "\n",
        "The impact is clear: if we can diagnose heart disease used other indicators aside from an angiogram, it means less costly procedure for physicians and patients, leading to increased access to heart disease diagnosis.\n",
        "\n",
        "Future questions may allow us to rethink current standard diagnosis practices in medicine and explore easier, less expensive options. "
      ],
      "metadata": {
        "id": "wYQVHmuELW1w"
      }
    }
  ]
}