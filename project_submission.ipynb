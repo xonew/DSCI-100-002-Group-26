{
 "cells": [
  {
   "cell_type": "markdown",
   "id": "afa8bbd2-4ed9-4a90-a635-aed6baef736e",
   "metadata": {
    "id": "afa8bbd2-4ed9-4a90-a635-aed6baef736e"
   },
   "source": [
    "### Run these first!"
   ]
  },
  {
   "cell_type": "code",
   "execution_count": null,
   "id": "0ed5d4d1-2be4-4378-a1d4-f1c9dab430cb",
   "metadata": {
    "id": "0ed5d4d1-2be4-4378-a1d4-f1c9dab430cb"
   },
   "outputs": [],
   "source": [
    "library(tidyverse)\n",
    "library(repr)\n",
    "library(tidymodels)\n",
    "options(repr.matrix.max.rows = 6)\n",
    "set.seed(1987)"
   ]
  },
  {
   "cell_type": "markdown",
   "id": "e1a9fa74-541a-494f-90da-ac40797ad307",
   "metadata": {
    "id": "e1a9fa74-541a-494f-90da-ac40797ad307"
   },
   "source": [
    "### Alternatives to Heart Disease Diagnosis"
   ]
  },
  {
   "cell_type": "markdown",
   "id": "3f822355-0f10-490b-8569-b913681acf80",
   "metadata": {
    "id": "3f822355-0f10-490b-8569-b913681acf80"
   },
   "source": [
    "### Introduction\n",
    "\n",
    "Heart disease, also known as cardiovascular disease is the leading cause of death in the United States. The most common type of heart disease is Cornonary Artery disease, which is caused by plaque buildup in the arteries and narrows or blocks blood flow to the heart."
   ]
  },
  {
   "cell_type": "markdown",
   "id": "776beeca-16d1-4d3d-8a55-da7037168adb",
   "metadata": {
    "id": "776beeca-16d1-4d3d-8a55-da7037168adb"
   },
   "source": [
    "The disease can be diagnosed through an angiogram, which is an X-ray that looks at the heart, major arteries, and blood vessels. But a typical angiogram can cost anywhere from 700-2200 CAD. What if there was an easier and less expensive way to diagnose heart disease?\n",
    "In this project, we consider attributes that can be observed using only a simple checkup: blood pressure, age, and maximum heart rate. Specifically, we investigate if we can use blood pressure, age, and maximum heart rate to determine if a patient has heart disease.\n",
    "The entire dataset contains 76 variables, 14 of which we can use for data analysis, varying from identifiers like age or sex to max heart rate. The dataset contains data from 4 different locations: Cleveland, Hungary, Switzerland, and the VA Long Beach. In our analysis, we used all four datasets.\n"
   ]
  },
  {
   "cell_type": "markdown",
   "id": "743d0ff4-35d7-4526-92fb-88787acc0f2e",
   "metadata": {
    "id": "743d0ff4-35d7-4526-92fb-88787acc0f2e"
   },
   "source": [
    "### Methods and Results"
   ]
  },
  {
   "cell_type": "markdown",
   "id": "297bb889-4edc-41fb-b377-85e566ed3e37",
   "metadata": {
    "id": "297bb889-4edc-41fb-b377-85e566ed3e37"
   },
   "source": [
    "The variables of importance were age, resting blood pressure, and maximum heart rate. Observations for these variables can be obtained cheaply, and they appear to have some correlation to the presence of heart disease.\n",
    "We combine all four data sets, clean up the data set for use in our model, and split the data set into a training set and testing set at a 3:1 ratio. It’s important to use a separate training and accuracy-determining testing set without the confirmation bias of verifying the model on the same data that was used to create the model."
   ]
  },
  {
   "cell_type": "code",
   "execution_count": null,
   "id": "b9ba9de7-6df9-40a2-803a-6a0933ab3783",
   "metadata": {
    "colab": {
     "base_uri": "https://localhost:8080/",
     "height": 842
    },
    "id": "b9ba9de7-6df9-40a2-803a-6a0933ab3783",
    "outputId": "e0259bf2-5320-4ed2-a1e5-5c808b78f463"
   },
   "outputs": [],
   "source": [
    "#reads the raw data sets and converts them into tibbles with no column names\n",
    "cleveland_data <- read_delim('https://raw.githubusercontent.com/xonew/DSCI-100-002-Group-26/main/Data/processed.cleveland.data', col_names = FALSE) |> as_tibble()\n",
    "hungarian_data <- read_delim('https://raw.githubusercontent.com/xonew/DSCI-100-002-Group-26/main/Data/processed.hungarian.data', col_names = FALSE) |> as_tibble()\n",
    "swiss_data <- read_delim('https://raw.githubusercontent.com/xonew/DSCI-100-002-Group-26/main/Data/processed.switzerland.data', col_names = FALSE) |> as_tibble()\n",
    "va_data <- read_delim('https://raw.githubusercontent.com/xonew/DSCI-100-002-Group-26/main/Data/processed.switzerland.data', col_names = FALSE) |> as_tibble()\n",
    "\n",
    "#combines the two data sets into one\n",
    "heart_data <- rbind(cleveland_data, hungarian_data, swiss_data, va_data)\n",
    "\n",
    "#assigns names to the columns based on information from the website\n",
    "colnames(heart_data) <- c('age', 'sex', 'chest_pain', 'trestbps', 'chol', 'fbs', 'restecg', 'max_hr',\n",
    "              'exang', 'oldpeak', 'slope', 'ca', 'thal', 'num')\n",
    "\n",
    "#converts all categorical attributes into factors\n",
    "heart_data <- mutate(heart_data, sex = as.factor(sex), chest_pain = as.factor(chest_pain),\n",
    "    num = replace(num, num > 0, 1), num = as.factor(num), fbs = as.factor(fbs), restecg = as.factor(restecg),\n",
    "    exang = as.factor(exang), thal = as.factor(thal), slope = as.factor(slope), ca = as.factor(ca)) |>\n",
    "\n",
    "#removes missing values from the cholesterol and resting blood pressure columns\n",
    "filter(trestbps != '?') |>\n",
    "\n",
    "#converts all necessary numerical attributes into doubles\n",
    "mutate(trestbps = as.double(trestbps), max_hr = as.double(max_hr))\n",
    "\n",
    "#splits data into testing and training sets\n",
    "heart_split <- heart_data |>\n",
    "  initial_split( prop = 0.75, strata = num)\n",
    "heart_train <- training(heart_split)\n",
    "heart_test <- testing(heart_split)\n",
    "heart_train"
   ]
  },
  {
   "cell_type": "code",
   "execution_count": null,
   "id": "d861a704-a457-464e-b7ed-b845911a2411",
   "metadata": {
    "colab": {
     "base_uri": "https://localhost:8080/",
     "height": 360
    },
    "id": "d861a704-a457-464e-b7ed-b845911a2411",
    "outputId": "0033c669-56cb-44b4-bb1f-15c45f22f3be"
   },
   "outputs": [],
   "source": [
    "total <- nrow(heart_train)\n",
    "disease_stats <- heart_train |>\n",
    "        group_by(num) |>\n",
    "        summarize(count = n()) |> \n",
    "        mutate(ratio = round(100 *(count/total)))\n",
    "# disease_stats\n",
    "\n",
    "heart_stats <- heart_train |> \n",
    "        summarize(avg_age = round(mean(age), digits = 2), \n",
    "                  avg_max_hr = round(mean(max_hr), digits = 2),\n",
    "                  avg_bps = round(mean(trestbps), digits = 2))\n",
    "# heart_stats"
   ]
  },
  {
   "cell_type": "markdown",
   "id": "7bdd921c-f59b-4141-a806-6dfc8a77e882",
   "metadata": {},
   "source": [
    "## Figure 1"
   ]
  },
  {
   "cell_type": "code",
   "execution_count": null,
   "id": "6205a1c7-f79c-444a-83fc-4b8a3679702a",
   "metadata": {},
   "outputs": [],
   "source": [
    "disease_stats"
   ]
  },
  {
   "cell_type": "markdown",
   "id": "9114303a-6dc7-4ded-b59b-4679d94780ff",
   "metadata": {},
   "source": [
    "## Figure 1.2"
   ]
  },
  {
   "cell_type": "code",
   "execution_count": null,
   "id": "c4301ddb-ff6c-4542-8ed9-4554d5bf11f3",
   "metadata": {},
   "outputs": [],
   "source": [
    "heart_stats"
   ]
  },
  {
   "cell_type": "markdown",
   "id": "bf3f0b3c-0b3d-4a77-84aa-417a3ebf79b7",
   "metadata": {
    "id": "bf3f0b3c-0b3d-4a77-84aa-417a3ebf79b7"
   },
   "source": [
    "Figure 1.1 displays the number of individuals with and without heart disease and the overall ratios. num = 0 represents individuals without heart disease, and num = 1 is individuals with heart disease. Figure 1.2 shows the rounded average values of age, maximum heart rate, and resting blood pressure."
   ]
  },
  {
   "cell_type": "code",
   "execution_count": null,
   "id": "83d593c0-e17c-4422-8465-84d5db7b0615",
   "metadata": {
    "colab": {
     "base_uri": "https://localhost:8080/",
     "height": 377
    },
    "id": "83d593c0-e17c-4422-8465-84d5db7b0615",
    "outputId": "7abde9f3-f2ae-404f-de0a-67c411edfcf7"
   },
   "outputs": [],
   "source": [
    "options(repr.plot.width = 12, repr.plot.height = 6)\n",
    "heart_plot_age_bps <- heart_train |>\n",
    "                ggplot(aes(x = trestbps, y = age, color = num)) +\n",
    "                geom_point(alpha = 0.9) +\n",
    "                theme(text = element_text(size = 20)) +\n",
    "                labs (x = 'Resting Blood Pressure (mmHg)', y = \"Age (Years)\", colour = \"Presence of heart disease\") +\n",
    "                ggtitle(\"Figure 2.1: Heart disease by Blood Pressure and Age\") +\n",
    "                coord_flip()\n",
    "heart_plot_age_bps"
   ]
  },
  {
   "cell_type": "markdown",
   "id": "6a32a945-6fa5-45e0-a94c-467d575033ce",
   "metadata": {
    "id": "6a32a945-6fa5-45e0-a94c-467d575033ce"
   },
   "source": [
    "Figure 2.1: there is a weak positive correlation between age and resting blood pressure, and that there is a higher presence of heart disease in older individuals with higher resting blood pressures."
   ]
  },
  {
   "cell_type": "code",
   "execution_count": null,
   "id": "21376c0f-9ff1-48b1-b1e3-8490caef61f9",
   "metadata": {
    "colab": {
     "base_uri": "https://localhost:8080/",
     "height": 377
    },
    "id": "21376c0f-9ff1-48b1-b1e3-8490caef61f9",
    "outputId": "bd3d161f-3668-4fc4-c967-f5bfeed84070"
   },
   "outputs": [],
   "source": [
    "heart_plot_age_maxhr <- heart_train |>\n",
    "                ggplot(aes(x = max_hr, y = age, color = num)) +\n",
    "                geom_point(alpha = 0.9) +\n",
    "                theme(text = element_text(size = 20)) +\n",
    "                labs (x = 'Max Heart Rate (BPM)', y = \"Age (Years)\", colour = \"Presence of heart disease\") +\n",
    "                ggtitle(\"Figure 2.2: Heart disease by Maximum Heart Rate and Age\") +\n",
    "                coord_flip()\n",
    "heart_plot_age_maxhr"
   ]
  },
  {
   "cell_type": "markdown",
   "id": "ce3d8dfe-40f6-4dd4-9d8b-206fa024ecd9",
   "metadata": {
    "id": "ce3d8dfe-40f6-4dd4-9d8b-206fa024ecd9"
   },
   "source": [
    "Figure 2.2: there is a weak negative correlation between age and max heart rate, and that there is a higher presence of heart disease in older individuals with smaller max heart rates."
   ]
  },
  {
   "cell_type": "markdown",
   "id": "5e7711f4-8d45-477c-b455-ccbad1cc33f5",
   "metadata": {
    "id": "5e7711f4-8d45-477c-b455-ccbad1cc33f5"
   },
   "source": [
    "Each variable is weakly related to heart disease on its own. The goal of this project is to see if the *combination* of each of these variables is enough to make accurate heart disease diagnoses."
   ]
  },
  {
   "cell_type": "code",
   "execution_count": null,
   "id": "1fdc6e46-b417-4678-9ae6-337e32f57376",
   "metadata": {
    "colab": {
     "base_uri": "https://localhost:8080/",
     "height": 394
    },
    "id": "1fdc6e46-b417-4678-9ae6-337e32f57376",
    "outputId": "014a9c24-763b-4126-d75a-6d019c47ba2a"
   },
   "outputs": [],
   "source": [
    "\n",
    "# creating the recipe for everything\n",
    "heart_recipe <- recipe(num ~ age + trestbps + max_hr , data = heart_train) |>\n",
    "  step_scale(all_predictors()) |>\n",
    "  step_center(all_predictors())\n",
    "\n",
    "ks <- tibble(neighbors = seq(from = 1, to = 10, by = 1))\n",
    "\n",
    "data_vfold <- vfold_cv(heart_train, v = 10, strata = num)\n",
    "\n",
    "# creating the spec for the vfold\n",
    "knn_spec_v <- nearest_neighbor(weight_func = \"rectangular\", neighbors = tune()) |>\n",
    "  set_engine(\"kknn\") |>\n",
    "  set_mode(\"classification\")\n",
    "\n",
    "\n",
    "#creating the workflow for the vfold\n",
    "\n",
    "accuracies <- workflow() |>\n",
    "  add_recipe(heart_recipe) |>\n",
    "  add_model(knn_spec_v) |>\n",
    "  tune_grid(resamples = data_vfold, grid = ks) |>\n",
    "  collect_metrics() |>\n",
    "  filter(.metric == \"accuracy\")\n",
    "\n",
    "#plot of accuracy by k value\n",
    "accuracy_vs_k <- ggplot(accuracies, aes(x = neighbors, y = mean)) +\n",
    "  geom_point() +\n",
    "  geom_line() +\n",
    "  labs(x = \"Neighbors\", y = \"Accuracy Estimate\", title = \"k-values by Accuracy\") +\n",
    "  theme(text = element_text(size = 12))\n",
    "\n",
    "accuracy_vs_k\n",
    "\n",
    "k_min <- accuracies |>\n",
    "    arrange(desc(mean)) |>\n",
    "    slice(1)|>\n",
    "    pull(neighbors)\n",
    "\n",
    "# printing the number of ks we use\n",
    "k_min"
   ]
  },
  {
   "cell_type": "markdown",
   "id": "a291ff18-2828-42cd-ad89-05b6339a9765",
   "metadata": {
    "id": "a291ff18-2828-42cd-ad89-05b6339a9765"
   },
   "source": [
    "We chose to use ***k*** nearest neighbours classification to solve this problem, using 10-fold cross-verification to reduce the impact of random chance on our model. After fitting the model to our training set, we can see the best number of ***k*** to use for our training set from the graph. We can now fit the final model using our chosen k and our training set, and determine the accuracy of it using our testing set."
   ]
  },
  {
   "cell_type": "code",
   "execution_count": null,
   "id": "42329aa1-d50a-40ba-a25d-a8d229981913",
   "metadata": {
    "colab": {
     "base_uri": "https://localhost:8080/",
     "height": 230
    },
    "id": "42329aa1-d50a-40ba-a25d-a8d229981913",
    "outputId": "f34b517a-7acc-4ecf-f9e7-59759f3b0c6e"
   },
   "outputs": [],
   "source": [
    "# creating the spec for the final model\n",
    "knn_spec_f <- nearest_neighbor(weight_func = \"rectangular\", neighbors = k_min) |>\n",
    "  set_engine(\"kknn\") |>\n",
    "  set_mode(\"classification\")\n",
    "\n",
    "#creating the workflow for the final model\n",
    "knn_fit <- workflow() |>\n",
    "  add_recipe(heart_recipe) |>\n",
    "  add_model(knn_spec_f) |>\n",
    "  fit(data = heart_train)\n",
    "\n",
    "#determining the accuracy using our testing set\n",
    "predictions <- knn_fit |>\n",
    "           predict(heart_test) |>\n",
    "          bind_cols(heart_test |> select(num, age, trestbps, max_hr))\n",
    "\n",
    "#metrics\n",
    "metrics <- predictions |>\n",
    "           metrics(truth = num, estimate = .pred_class)\n",
    "#confidence matrix\n",
    "conf_mat <- predictions |>\n",
    "    conf_mat(truth = num, estimate = .pred_class)\n",
    "metrics\n",
    "conf_mat"
   ]
  },
  {
   "cell_type": "markdown",
   "id": "TRNPTpx8egDK",
   "metadata": {
    "id": "TRNPTpx8egDK"
   },
   "source": [
    "We see that our model is around 70% accurate, which isn’t particularly high but not particularly poor. For a closer look into our model, we can look to the confidence matrix. From this, we can see the number of correct negative diagnoses, correct positive diagnoses, incorrect positive diagnoses, and incorrect negative diagnoses. Because the number of false-positives (type 1 error) and false-negatives (type 2 error) is around the same, we determine that the model is neither under-fitting nor over-fitting to the data."
   ]
  },
  {
   "cell_type": "code",
   "execution_count": null,
   "id": "f87bfeaa-6977-4519-8ac7-c8ff2591c945",
   "metadata": {
    "colab": {
     "base_uri": "https://localhost:8080/",
     "height": 377
    },
    "id": "f87bfeaa-6977-4519-8ac7-c8ff2591c945",
    "outputId": "40957840-6fe5-44e8-b9bd-a50c09e0bc2a"
   },
   "outputs": [],
   "source": [
    "#plot of predictions by error type\n",
    "errors <- predictions |>\n",
    "    mutate(error = ifelse(num == .pred_class & num == 0, \"0 (Negative)\", ifelse(num == .pred_class & num == 1, \"0 (Positive)\", ifelse(num == 1, 1, 2))))\n",
    " ggplot(errors, aes(x = age, y = trestbps, color = error)) +\n",
    "  geom_point() +\n",
    "    scale_color_manual(values = c(\"0 (Positive)\" = \"red\", \"0 (Negative)\" = \"orange\", \"1\" = \"blue\", \"2\" = \"purple\")) +\n",
    "  labs(x = \"Age\", y = \"Resting Blood Pressure\", color = \"Error Type (0 = no error)\", title = \"Predictions by Resting Blood Pressure and Age\")"
   ]
  },
  {
   "cell_type": "markdown",
   "id": "80c70340-1534-4589-b7ce-39b1d53e1d18",
   "metadata": {
    "id": "80c70340-1534-4589-b7ce-39b1d53e1d18"
   },
   "source": [
    "To visualize the confidence matrix further, we put some of our variables into a scatter plot. Due to the high dimensionality (too many variables) of the model, we cannot visualize using all of our variables, so this plot only includes resting blood pressure and age. Correct predictions are colored in warm colors, wrong predictions are colored in cool colors. From the plot, we can see that individuals that are young or have high resting blood pressures are generally being correctly classified. Most of the incorrect classifications occur in the intersection of low resting blood pressure and middle age.  "
   ]
  },
  {
   "cell_type": "markdown",
   "id": "68a4408d-03ca-4cfe-b728-b635f4c2031e",
   "metadata": {
    "id": "68a4408d-03ca-4cfe-b728-b635f4c2031e"
   },
   "source": [
    "### Discussion"
   ]
  },
  {
   "cell_type": "markdown",
   "id": "327fb7ec-41c0-4f68-a59f-107c201ce1cf",
   "metadata": {
    "id": "327fb7ec-41c0-4f68-a59f-107c201ce1cf"
   },
   "source": [
    "Based on preliminary research, we determined that there's a relationship between heart disease and all of our selected variables. So, we expected that using all four predictors would allow us to predict heart disease diagnosis with decent accuracy. Through a classification exercise we were able to confirm these suspicions and determine that using the choice variables (age, resting blood pressure, and maximum heart rate.) that are inexpensive to test for results in an estimated accuracy of more than 70%."
   ]
  },
  {
   "cell_type": "markdown",
   "id": "29db1262-16f6-44b0-b050-97517391a3b3",
   "metadata": {
    "id": "29db1262-16f6-44b0-b050-97517391a3b3"
   },
   "source": [
    "While this figure is not great enough to replace angiograms entirely, it is significant enough to be effective as a screening test to determine at-risk individuals. Because this model has such a low cost to run, it can be included as a routine step in any checkup, potentially allowing individuals with undiagnosed heart disease to receive the attention they need."
   ]
  },
  {
   "cell_type": "markdown",
   "id": "5f8a2a7e-d5fd-4e29-ab24-b8d3c94e88bc",
   "metadata": {
    "id": "5f8a2a7e-d5fd-4e29-ab24-b8d3c94e88bc"
   },
   "source": [
    "The impact is clear: if we can routinely do cheap tests for heart disease or reduce the number of angiograms needed, it means less costly procedures for physicians and patients, leading to increased access to heart disease diagnoses. Thus directly affecting impoverished or otherwise less fortunate communities, possibly saving lives and changing the healthcare system towards greater accessibility."
   ]
  },
  {
   "cell_type": "markdown",
   "id": "50ad0be2-6e12-4ffa-8647-8567cb7562c6",
   "metadata": {
    "id": "50ad0be2-6e12-4ffa-8647-8567cb7562c6"
   },
   "source": [
    "Such explorations and investigations into current health care practices may cause future questions to arise. For example, we may rethink current standard diagnosis practices in medicine and explore easier, less expensive options, including but not limited to heart disease diagnosis and other cardio related disorders. Specifically, one possible question is \"What other variables can we use to successfully predict heart disease with even more accuracy?\""
   ]
  },
  {
   "cell_type": "markdown",
   "id": "72e961dc-9a6b-4d2e-98b3-90d2d00769c9",
   "metadata": {
    "id": "72e961dc-9a6b-4d2e-98b3-90d2d00769c9"
   },
   "source": [
    "### References"
   ]
  },
  {
   "cell_type": "markdown",
   "id": "6024c1a6-89da-4ada-9754-c503adf321d3",
   "metadata": {
    "id": "6024c1a6-89da-4ada-9754-c503adf321d3"
   },
   "source": [
    "(Heart disease data set source)\n",
    "Janosi, Andras., Steinbrunn, William., et al. (1988). Heart Disease [Data Set]. UC Irvine Machine Learning Repository. 10.24432/C52P4X\n",
    "\n",
    "(Heart disease background/ diagnosis method source)\n",
    "Stouffer, G., Runge, M. S., et al. (2018). Netter’s Cardiology E-Book. Elsevier Health Sciences.\n",
    "\n",
    "(angiogram prices)\n",
    "(Updated 2023). Diagnostic Scans. Canada Diagnostic. https://www.canadadiagnostic.com/info/fees/"
   ]
  }
 ],
 "metadata": {
  "colab": {
   "provenance": []
  },
  "kernelspec": {
   "display_name": "R",
   "language": "R",
   "name": "ir"
  },
  "language_info": {
   "codemirror_mode": "r",
   "file_extension": ".r",
   "mimetype": "text/x-r-source",
   "name": "R",
   "pygments_lexer": "r",
   "version": "4.1.3"
  }
 },
 "nbformat": 4,
 "nbformat_minor": 5
}
