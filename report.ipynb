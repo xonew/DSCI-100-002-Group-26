{
  "nbformat": 4,
  "nbformat_minor": 0,
  "metadata": {
    "colab": {
      "provenance": [],
      "gpuType": "T4",
      "include_colab_link": true
    },
    "kernelspec": {
      "name": "ir",
      "display_name": "R"
    },
    "language_info": {
      "name": "R"
    },
    "accelerator": "TPU"
  },
  "cells": [
    {
      "cell_type": "markdown",
      "metadata": {
        "id": "view-in-github",
        "colab_type": "text"
      },
      "source": [
        "<a href=\"https://colab.research.google.com/github/xonew/DSCI-100-002-Group-26/blob/main/report.ipynb\" target=\"_parent\"><img src=\"https://colab.research.google.com/assets/colab-badge.svg\" alt=\"Open In Colab\"/></a>"
      ]
    },
    {
      "cell_type": "markdown",
      "source": [
        "### Run these first!"
      ],
      "metadata": {
        "id": "t3GxqwKagL56"
      }
    },
    {
      "cell_type": "code",
      "source": [
        "#install.packages(\"tidymodels\")\n",
        "#install.packages(\"kknn\")"
      ],
      "metadata": {
        "id": "hdhQCOcHSfMu",
        "colab": {
          "base_uri": "https://localhost:8080/"
        },
        "outputId": "24acccda-13ab-43b1-d8cd-27e2a8de4775"
      },
      "execution_count": 17,
      "outputs": [
        {
          "output_type": "stream",
          "name": "stderr",
          "text": [
            "Installing package into ‘/usr/local/lib/R/site-library’\n",
            "(as ‘lib’ is unspecified)\n",
            "\n",
            "also installing the dependency ‘igraph’\n",
            "\n",
            "\n"
          ]
        }
      ]
    },
    {
      "cell_type": "code",
      "source": [
        "library(tidyverse)\n",
        "library(repr)\n",
        "library(tidymodels)\n",
        "library(kknn)\n",
        "set.seed(900)"
      ],
      "metadata": {
        "id": "e6v8_RzJM4Mu"
      },
      "execution_count": 23,
      "outputs": []
    },
    {
      "cell_type": "code",
      "source": [
        "set.seed(900)\n",
        "\n",
        "#reads the raw data sets and converts them into tibbles with no column names\n",
        "cleveland_data <- read_delim('https://raw.githubusercontent.com/xonew/DSCI-100-002-Group-26/main/Data/processed.cleveland.data', col_names = FALSE) |> as_tibble()\n",
        "hungarian_data <- read_delim('https://raw.githubusercontent.com/xonew/DSCI-100-002-Group-26/main/Data/processed.hungarian.data', col_names = FALSE) |> as_tibble()\n",
        "\n",
        "#combines the two data sets into one\n",
        "heart_data <- rbind(cleveland_data, hungarian_data)\n",
        "\n",
        "#assigns names to the columns based on information from the website\n",
        "colnames(heart_data) <- c('age', 'sex', 'chest_pain', 'trestbps', 'chol', 'fbs', 'restecg', 'max_hr',\n",
        "              'exang', 'oldpeak', 'slope', 'ca', 'thal', 'num')\n",
        "\n",
        "#converts all categorical attributes into factors\n",
        "heart_data <- mutate(heart_data, sex = as.factor(sex), chest_pain = as.factor(chest_pain),\n",
        "    num = replace(num, num > 0, 1), num = as.factor(num), fbs = as.factor(fbs), restecg = as.factor(restecg),\n",
        "    exang = as.factor(exang), thal = as.factor(thal), slope = as.factor(slope), ca = as.factor(ca)) |>\n",
        "\n",
        "#removes missing values from the cholesterol and resting blood pressure columns\n",
        "filter(chol != '?', trestbps != '?') |>\n",
        "\n",
        "#converts all necessary numerical attributes into doubles\n",
        "mutate(chol = as.double(chol), trestbps = as.double(trestbps))\n",
        "\n",
        "#splits data into testing and training sets\n",
        "heart_split <- heart_data |>\n",
        "  select(num, age, trestbps, chol) |>\n",
        "  initial_split( prop = 0.75, strata = num)\n",
        "heart_train <- training(heart_split)\n",
        "heart_test <- testing(heart_split)\n",
        "heart_train"
      ],
      "metadata": {
        "id": "c7cLEPVlWbqp",
        "colab": {
          "base_uri": "https://localhost:8080/",
          "height": 1000
        },
        "outputId": "dc445a3c-6285-4dea-8048-cfad35c84709"
      },
      "execution_count": 24,
      "outputs": [
        {
          "output_type": "stream",
          "name": "stderr",
          "text": [
            "\u001b[1mRows: \u001b[22m\u001b[34m303\u001b[39m \u001b[1mColumns: \u001b[22m\u001b[34m14\u001b[39m\n",
            "\u001b[36m──\u001b[39m \u001b[1mColumn specification\u001b[22m \u001b[36m────────────────────────────────────────────────────────\u001b[39m\n",
            "\u001b[1mDelimiter:\u001b[22m \",\"\n",
            "\u001b[31mchr\u001b[39m  (2): X12, X13\n",
            "\u001b[32mdbl\u001b[39m (12): X1, X2, X3, X4, X5, X6, X7, X8, X9, X10, X11, X14\n",
            "\n",
            "\u001b[36mℹ\u001b[39m Use `spec()` to retrieve the full column specification for this data.\n",
            "\u001b[36mℹ\u001b[39m Specify the column types or set `show_col_types = FALSE` to quiet this message.\n",
            "\u001b[1mRows: \u001b[22m\u001b[34m294\u001b[39m \u001b[1mColumns: \u001b[22m\u001b[34m14\u001b[39m\n",
            "\u001b[36m──\u001b[39m \u001b[1mColumn specification\u001b[22m \u001b[36m────────────────────────────────────────────────────────\u001b[39m\n",
            "\u001b[1mDelimiter:\u001b[22m \",\"\n",
            "\u001b[31mchr\u001b[39m (9): X4, X5, X6, X7, X8, X9, X11, X12, X13\n",
            "\u001b[32mdbl\u001b[39m (5): X1, X2, X3, X10, X14\n",
            "\n",
            "\u001b[36mℹ\u001b[39m Use `spec()` to retrieve the full column specification for this data.\n",
            "\u001b[36mℹ\u001b[39m Specify the column types or set `show_col_types = FALSE` to quiet this message.\n"
          ]
        },
        {
          "output_type": "display_data",
          "data": {
            "text/html": [
              "<table class=\"dataframe\">\n",
              "<caption>A tibble: 429 × 4</caption>\n",
              "<thead>\n",
              "\t<tr><th scope=col>num</th><th scope=col>age</th><th scope=col>trestbps</th><th scope=col>chol</th></tr>\n",
              "\t<tr><th scope=col>&lt;fct&gt;</th><th scope=col>&lt;dbl&gt;</th><th scope=col>&lt;dbl&gt;</th><th scope=col>&lt;dbl&gt;</th></tr>\n",
              "</thead>\n",
              "<tbody>\n",
              "\t<tr><td>0</td><td>63</td><td>145</td><td>233</td></tr>\n",
              "\t<tr><td>0</td><td>57</td><td>120</td><td>354</td></tr>\n",
              "\t<tr><td>0</td><td>57</td><td>140</td><td>192</td></tr>\n",
              "\t<tr><td>0</td><td>44</td><td>120</td><td>263</td></tr>\n",
              "\t<tr><td>0</td><td>52</td><td>172</td><td>199</td></tr>\n",
              "\t<tr><td>0</td><td>57</td><td>150</td><td>168</td></tr>\n",
              "\t<tr><td>0</td><td>49</td><td>130</td><td>266</td></tr>\n",
              "\t<tr><td>0</td><td>64</td><td>110</td><td>211</td></tr>\n",
              "\t<tr><td>0</td><td>58</td><td>120</td><td>340</td></tr>\n",
              "\t<tr><td>0</td><td>66</td><td>150</td><td>226</td></tr>\n",
              "\t<tr><td>0</td><td>43</td><td>150</td><td>247</td></tr>\n",
              "\t<tr><td>0</td><td>69</td><td>140</td><td>239</td></tr>\n",
              "\t<tr><td>0</td><td>44</td><td>130</td><td>233</td></tr>\n",
              "\t<tr><td>0</td><td>42</td><td>140</td><td>226</td></tr>\n",
              "\t<tr><td>0</td><td>61</td><td>150</td><td>243</td></tr>\n",
              "\t<tr><td>0</td><td>40</td><td>140</td><td>199</td></tr>\n",
              "\t<tr><td>0</td><td>71</td><td>160</td><td>302</td></tr>\n",
              "\t<tr><td>0</td><td>59</td><td>150</td><td>212</td></tr>\n",
              "\t<tr><td>0</td><td>51</td><td>110</td><td>175</td></tr>\n",
              "\t<tr><td>0</td><td>53</td><td>130</td><td>197</td></tr>\n",
              "\t<tr><td>0</td><td>41</td><td>105</td><td>198</td></tr>\n",
              "\t<tr><td>0</td><td>65</td><td>120</td><td>177</td></tr>\n",
              "\t<tr><td>0</td><td>54</td><td>125</td><td>273</td></tr>\n",
              "\t<tr><td>0</td><td>51</td><td>125</td><td>213</td></tr>\n",
              "\t<tr><td>0</td><td>46</td><td>142</td><td>177</td></tr>\n",
              "\t<tr><td>0</td><td>54</td><td>150</td><td>232</td></tr>\n",
              "\t<tr><td>0</td><td>65</td><td>155</td><td>269</td></tr>\n",
              "\t<tr><td>0</td><td>65</td><td>160</td><td>360</td></tr>\n",
              "\t<tr><td>0</td><td>51</td><td>140</td><td>308</td></tr>\n",
              "\t<tr><td>0</td><td>48</td><td>130</td><td>245</td></tr>\n",
              "\t<tr><td>⋮</td><td>⋮</td><td>⋮</td><td>⋮</td></tr>\n",
              "\t<tr><td>1</td><td>41</td><td>130</td><td>172</td></tr>\n",
              "\t<tr><td>1</td><td>43</td><td>120</td><td>175</td></tr>\n",
              "\t<tr><td>1</td><td>44</td><td>150</td><td>288</td></tr>\n",
              "\t<tr><td>1</td><td>46</td><td>140</td><td>272</td></tr>\n",
              "\t<tr><td>1</td><td>47</td><td>135</td><td>248</td></tr>\n",
              "\t<tr><td>1</td><td>48</td><td>138</td><td>214</td></tr>\n",
              "\t<tr><td>1</td><td>52</td><td>112</td><td>342</td></tr>\n",
              "\t<tr><td>1</td><td>52</td><td>140</td><td>404</td></tr>\n",
              "\t<tr><td>1</td><td>52</td><td>160</td><td>246</td></tr>\n",
              "\t<tr><td>1</td><td>53</td><td>180</td><td>285</td></tr>\n",
              "\t<tr><td>1</td><td>54</td><td>140</td><td>216</td></tr>\n",
              "\t<tr><td>1</td><td>55</td><td>140</td><td>295</td></tr>\n",
              "\t<tr><td>1</td><td>55</td><td>160</td><td>292</td></tr>\n",
              "\t<tr><td>1</td><td>55</td><td>145</td><td>248</td></tr>\n",
              "\t<tr><td>1</td><td>56</td><td>150</td><td>230</td></tr>\n",
              "\t<tr><td>1</td><td>58</td><td>136</td><td>164</td></tr>\n",
              "\t<tr><td>1</td><td>59</td><td>140</td><td>264</td></tr>\n",
              "\t<tr><td>1</td><td>65</td><td>170</td><td>263</td></tr>\n",
              "\t<tr><td>1</td><td>41</td><td>120</td><td>336</td></tr>\n",
              "\t<tr><td>1</td><td>43</td><td>140</td><td>288</td></tr>\n",
              "\t<tr><td>1</td><td>47</td><td>160</td><td>291</td></tr>\n",
              "\t<tr><td>1</td><td>49</td><td>128</td><td>212</td></tr>\n",
              "\t<tr><td>1</td><td>49</td><td>150</td><td>222</td></tr>\n",
              "\t<tr><td>1</td><td>50</td><td>140</td><td>231</td></tr>\n",
              "\t<tr><td>1</td><td>50</td><td>140</td><td>341</td></tr>\n",
              "\t<tr><td>1</td><td>52</td><td>140</td><td>266</td></tr>\n",
              "\t<tr><td>1</td><td>52</td><td>160</td><td>331</td></tr>\n",
              "\t<tr><td>1</td><td>54</td><td>130</td><td>294</td></tr>\n",
              "\t<tr><td>1</td><td>56</td><td>155</td><td>342</td></tr>\n",
              "\t<tr><td>1</td><td>65</td><td>130</td><td>275</td></tr>\n",
              "</tbody>\n",
              "</table>\n"
            ],
            "text/markdown": "\nA tibble: 429 × 4\n\n| num &lt;fct&gt; | age &lt;dbl&gt; | trestbps &lt;dbl&gt; | chol &lt;dbl&gt; |\n|---|---|---|---|\n| 0 | 63 | 145 | 233 |\n| 0 | 57 | 120 | 354 |\n| 0 | 57 | 140 | 192 |\n| 0 | 44 | 120 | 263 |\n| 0 | 52 | 172 | 199 |\n| 0 | 57 | 150 | 168 |\n| 0 | 49 | 130 | 266 |\n| 0 | 64 | 110 | 211 |\n| 0 | 58 | 120 | 340 |\n| 0 | 66 | 150 | 226 |\n| 0 | 43 | 150 | 247 |\n| 0 | 69 | 140 | 239 |\n| 0 | 44 | 130 | 233 |\n| 0 | 42 | 140 | 226 |\n| 0 | 61 | 150 | 243 |\n| 0 | 40 | 140 | 199 |\n| 0 | 71 | 160 | 302 |\n| 0 | 59 | 150 | 212 |\n| 0 | 51 | 110 | 175 |\n| 0 | 53 | 130 | 197 |\n| 0 | 41 | 105 | 198 |\n| 0 | 65 | 120 | 177 |\n| 0 | 54 | 125 | 273 |\n| 0 | 51 | 125 | 213 |\n| 0 | 46 | 142 | 177 |\n| 0 | 54 | 150 | 232 |\n| 0 | 65 | 155 | 269 |\n| 0 | 65 | 160 | 360 |\n| 0 | 51 | 140 | 308 |\n| 0 | 48 | 130 | 245 |\n| ⋮ | ⋮ | ⋮ | ⋮ |\n| 1 | 41 | 130 | 172 |\n| 1 | 43 | 120 | 175 |\n| 1 | 44 | 150 | 288 |\n| 1 | 46 | 140 | 272 |\n| 1 | 47 | 135 | 248 |\n| 1 | 48 | 138 | 214 |\n| 1 | 52 | 112 | 342 |\n| 1 | 52 | 140 | 404 |\n| 1 | 52 | 160 | 246 |\n| 1 | 53 | 180 | 285 |\n| 1 | 54 | 140 | 216 |\n| 1 | 55 | 140 | 295 |\n| 1 | 55 | 160 | 292 |\n| 1 | 55 | 145 | 248 |\n| 1 | 56 | 150 | 230 |\n| 1 | 58 | 136 | 164 |\n| 1 | 59 | 140 | 264 |\n| 1 | 65 | 170 | 263 |\n| 1 | 41 | 120 | 336 |\n| 1 | 43 | 140 | 288 |\n| 1 | 47 | 160 | 291 |\n| 1 | 49 | 128 | 212 |\n| 1 | 49 | 150 | 222 |\n| 1 | 50 | 140 | 231 |\n| 1 | 50 | 140 | 341 |\n| 1 | 52 | 140 | 266 |\n| 1 | 52 | 160 | 331 |\n| 1 | 54 | 130 | 294 |\n| 1 | 56 | 155 | 342 |\n| 1 | 65 | 130 | 275 |\n\n",
            "text/latex": "A tibble: 429 × 4\n\\begin{tabular}{llll}\n num & age & trestbps & chol\\\\\n <fct> & <dbl> & <dbl> & <dbl>\\\\\n\\hline\n\t 0 & 63 & 145 & 233\\\\\n\t 0 & 57 & 120 & 354\\\\\n\t 0 & 57 & 140 & 192\\\\\n\t 0 & 44 & 120 & 263\\\\\n\t 0 & 52 & 172 & 199\\\\\n\t 0 & 57 & 150 & 168\\\\\n\t 0 & 49 & 130 & 266\\\\\n\t 0 & 64 & 110 & 211\\\\\n\t 0 & 58 & 120 & 340\\\\\n\t 0 & 66 & 150 & 226\\\\\n\t 0 & 43 & 150 & 247\\\\\n\t 0 & 69 & 140 & 239\\\\\n\t 0 & 44 & 130 & 233\\\\\n\t 0 & 42 & 140 & 226\\\\\n\t 0 & 61 & 150 & 243\\\\\n\t 0 & 40 & 140 & 199\\\\\n\t 0 & 71 & 160 & 302\\\\\n\t 0 & 59 & 150 & 212\\\\\n\t 0 & 51 & 110 & 175\\\\\n\t 0 & 53 & 130 & 197\\\\\n\t 0 & 41 & 105 & 198\\\\\n\t 0 & 65 & 120 & 177\\\\\n\t 0 & 54 & 125 & 273\\\\\n\t 0 & 51 & 125 & 213\\\\\n\t 0 & 46 & 142 & 177\\\\\n\t 0 & 54 & 150 & 232\\\\\n\t 0 & 65 & 155 & 269\\\\\n\t 0 & 65 & 160 & 360\\\\\n\t 0 & 51 & 140 & 308\\\\\n\t 0 & 48 & 130 & 245\\\\\n\t ⋮ & ⋮ & ⋮ & ⋮\\\\\n\t 1 & 41 & 130 & 172\\\\\n\t 1 & 43 & 120 & 175\\\\\n\t 1 & 44 & 150 & 288\\\\\n\t 1 & 46 & 140 & 272\\\\\n\t 1 & 47 & 135 & 248\\\\\n\t 1 & 48 & 138 & 214\\\\\n\t 1 & 52 & 112 & 342\\\\\n\t 1 & 52 & 140 & 404\\\\\n\t 1 & 52 & 160 & 246\\\\\n\t 1 & 53 & 180 & 285\\\\\n\t 1 & 54 & 140 & 216\\\\\n\t 1 & 55 & 140 & 295\\\\\n\t 1 & 55 & 160 & 292\\\\\n\t 1 & 55 & 145 & 248\\\\\n\t 1 & 56 & 150 & 230\\\\\n\t 1 & 58 & 136 & 164\\\\\n\t 1 & 59 & 140 & 264\\\\\n\t 1 & 65 & 170 & 263\\\\\n\t 1 & 41 & 120 & 336\\\\\n\t 1 & 43 & 140 & 288\\\\\n\t 1 & 47 & 160 & 291\\\\\n\t 1 & 49 & 128 & 212\\\\\n\t 1 & 49 & 150 & 222\\\\\n\t 1 & 50 & 140 & 231\\\\\n\t 1 & 50 & 140 & 341\\\\\n\t 1 & 52 & 140 & 266\\\\\n\t 1 & 52 & 160 & 331\\\\\n\t 1 & 54 & 130 & 294\\\\\n\t 1 & 56 & 155 & 342\\\\\n\t 1 & 65 & 130 & 275\\\\\n\\end{tabular}\n",
            "text/plain": [
              "    num age trestbps chol\n",
              "1   0   63  145      233 \n",
              "2   0   57  120      354 \n",
              "3   0   57  140      192 \n",
              "4   0   44  120      263 \n",
              "5   0   52  172      199 \n",
              "6   0   57  150      168 \n",
              "7   0   49  130      266 \n",
              "8   0   64  110      211 \n",
              "9   0   58  120      340 \n",
              "10  0   66  150      226 \n",
              "11  0   43  150      247 \n",
              "12  0   69  140      239 \n",
              "13  0   44  130      233 \n",
              "14  0   42  140      226 \n",
              "15  0   61  150      243 \n",
              "16  0   40  140      199 \n",
              "17  0   71  160      302 \n",
              "18  0   59  150      212 \n",
              "19  0   51  110      175 \n",
              "20  0   53  130      197 \n",
              "21  0   41  105      198 \n",
              "22  0   65  120      177 \n",
              "23  0   54  125      273 \n",
              "24  0   51  125      213 \n",
              "25  0   46  142      177 \n",
              "26  0   54  150      232 \n",
              "27  0   65  155      269 \n",
              "28  0   65  160      360 \n",
              "29  0   51  140      308 \n",
              "30  0   48  130      245 \n",
              "⋮   ⋮   ⋮   ⋮        ⋮   \n",
              "400 1   41  130      172 \n",
              "401 1   43  120      175 \n",
              "402 1   44  150      288 \n",
              "403 1   46  140      272 \n",
              "404 1   47  135      248 \n",
              "405 1   48  138      214 \n",
              "406 1   52  112      342 \n",
              "407 1   52  140      404 \n",
              "408 1   52  160      246 \n",
              "409 1   53  180      285 \n",
              "410 1   54  140      216 \n",
              "411 1   55  140      295 \n",
              "412 1   55  160      292 \n",
              "413 1   55  145      248 \n",
              "414 1   56  150      230 \n",
              "415 1   58  136      164 \n",
              "416 1   59  140      264 \n",
              "417 1   65  170      263 \n",
              "418 1   41  120      336 \n",
              "419 1   43  140      288 \n",
              "420 1   47  160      291 \n",
              "421 1   49  128      212 \n",
              "422 1   49  150      222 \n",
              "423 1   50  140      231 \n",
              "424 1   50  140      341 \n",
              "425 1   52  140      266 \n",
              "426 1   52  160      331 \n",
              "427 1   54  130      294 \n",
              "428 1   56  155      342 \n",
              "429 1   65  130      275 "
            ]
          },
          "metadata": {}
        }
      ]
    },
    {
      "cell_type": "code",
      "source": [
        "set.seed(900)\n",
        "# creating the recipe for everything\n",
        "heart_recipe <- recipe(num ~ ., data = heart_train) |>\n",
        "  step_scale(all_predictors()) |>\n",
        "  step_center(all_predictors())\n",
        "\n",
        "ks <- tibble(neighbors = seq(from = 1, to = 10, by = 1))\n",
        "\n",
        "data_vfold <- vfold_cv(heart_train, v = 5, strata = num)\n",
        "\n",
        "# creating the spec for the vfold\n",
        "knn_spec_v <- nearest_neighbor(weight_func = \"rectangular\", neighbors = tune()) |>\n",
        "  set_engine(\"kknn\") |>\n",
        "  set_mode(\"classification\")\n",
        "\n",
        "\n",
        "#creating the workflow for the vfold\n",
        "\n",
        "accuracies <- workflow() |>\n",
        "  add_recipe(heart_recipe) |>\n",
        "  add_model(knn_spec_v) |>\n",
        "  tune_grid(resamples = data_vfold, grid = ks) |>\n",
        "  collect_metrics() |>\n",
        "  filter(.metric == \"accuracy\")\n",
        "\n",
        "#plot of accuracy by k value\n",
        "accuracy_vs_k <- ggplot(accuracies, aes(x = neighbors, y = mean)) +\n",
        "  geom_point() +\n",
        "  geom_line() +\n",
        "  labs(x = \"Neighbors\", y = \"Accuracy Estimate\", title = \"k-values by accuracy\") +\n",
        "  theme(text = element_text(size = 12))\n",
        "\n",
        "accuracy_vs_k\n",
        "\n",
        "k_min <- accuracies |>\n",
        "    arrange(desc(mean)) |>\n",
        "    slice(1)|>\n",
        "    pull(neighbors)\n",
        "\n",
        "# creating the spec for the final model\n",
        "knn_spec_f <- nearest_neighbor(weight_func = \"rectangular\", neighbors = k_min) |>\n",
        "  set_engine(\"kknn\") |>\n",
        "  set_mode(\"classification\")\n",
        "\n",
        "#creating the workflow for the final model\n",
        "knn_fit <- workflow() |>\n",
        "  add_recipe(heart_recipe) |>\n",
        "  add_model(knn_spec_f) |>\n",
        "  fit(data = heart_train)\n",
        "\n",
        "#determining the accuracy using our testing set\n",
        "predictions <- knn_fit |>\n",
        "           predict(heart_test) |>\n",
        "bind_cols(heart_test |> select(num))\n",
        "\n",
        "#metrics\n",
        "metrics <- predictions |>\n",
        "           metrics(truth = num, estimate = .pred_class)\n",
        "\n",
        "#confidence matrix\n",
        "conf_mat <- predictions |>\n",
        "    conf_mat(truth = num, estimate = .pred_class)\n",
        "metrics\n",
        "conf_mat\n",
        "avg_person <- tibble(num = 0, age = 30, trestbps = 120, chol = 170)\n",
        "\n",
        "#predicting whether an average person has heart disease\n",
        "predict(knn_fit, avg_person)"
      ],
      "metadata": {
        "colab": {
          "base_uri": "https://localhost:8080/",
          "height": 762
        },
        "id": "lvy2UErcYHQp",
        "outputId": "d3a0aaae-9bbc-4bd9-83f5-352f33e952c2"
      },
      "execution_count": 33,
      "outputs": [
        {
          "output_type": "display_data",
          "data": {
            "text/html": [
              "<table class=\"dataframe\">\n",
              "<caption>A tibble: 2 × 3</caption>\n",
              "<thead>\n",
              "\t<tr><th scope=col>.metric</th><th scope=col>.estimator</th><th scope=col>.estimate</th></tr>\n",
              "\t<tr><th scope=col>&lt;chr&gt;</th><th scope=col>&lt;chr&gt;</th><th scope=col>&lt;dbl&gt;</th></tr>\n",
              "</thead>\n",
              "<tbody>\n",
              "\t<tr><td>accuracy</td><td>binary</td><td>0.6458333</td></tr>\n",
              "\t<tr><td>kap     </td><td>binary</td><td>0.2731591</td></tr>\n",
              "</tbody>\n",
              "</table>\n"
            ],
            "text/markdown": "\nA tibble: 2 × 3\n\n| .metric &lt;chr&gt; | .estimator &lt;chr&gt; | .estimate &lt;dbl&gt; |\n|---|---|---|\n| accuracy | binary | 0.6458333 |\n| kap      | binary | 0.2731591 |\n\n",
            "text/latex": "A tibble: 2 × 3\n\\begin{tabular}{lll}\n .metric & .estimator & .estimate\\\\\n <chr> & <chr> & <dbl>\\\\\n\\hline\n\t accuracy & binary & 0.6458333\\\\\n\t kap      & binary & 0.2731591\\\\\n\\end{tabular}\n",
            "text/plain": [
              "  .metric  .estimator .estimate\n",
              "1 accuracy binary     0.6458333\n",
              "2 kap      binary     0.2731591"
            ]
          },
          "metadata": {}
        },
        {
          "output_type": "display_data",
          "data": {
            "text/plain": [
              "          Truth\n",
              "Prediction  0  1\n",
              "         0 58 25\n",
              "         1 26 35"
            ]
          },
          "metadata": {}
        },
        {
          "output_type": "display_data",
          "data": {
            "text/html": [
              "<table class=\"dataframe\">\n",
              "<caption>A tibble: 1 × 1</caption>\n",
              "<thead>\n",
              "\t<tr><th scope=col>.pred_class</th></tr>\n",
              "\t<tr><th scope=col>&lt;fct&gt;</th></tr>\n",
              "</thead>\n",
              "<tbody>\n",
              "\t<tr><td>0</td></tr>\n",
              "</tbody>\n",
              "</table>\n"
            ],
            "text/markdown": "\nA tibble: 1 × 1\n\n| .pred_class &lt;fct&gt; |\n|---|\n| 0 |\n\n",
            "text/latex": "A tibble: 1 × 1\n\\begin{tabular}{l}\n .pred\\_class\\\\\n <fct>\\\\\n\\hline\n\t 0\\\\\n\\end{tabular}\n",
            "text/plain": [
              "  .pred_class\n",
              "1 0          "
            ]
          },
          "metadata": {}
        },
        {
          "output_type": "display_data",
          "data": {
            "text/plain": [
              "plot without title"
            ],
            "image/png": "[encoded data removed]"
          },
          "metadata": {
            "image/png": {
              "width": 420,
              "height": 420
            }
          }
        }
      ]
    }
  ]
}